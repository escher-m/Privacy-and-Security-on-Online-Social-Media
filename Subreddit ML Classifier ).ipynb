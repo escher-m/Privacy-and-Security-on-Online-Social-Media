{
 "cells": [
  {
   "cell_type": "code",
   "execution_count": 37,
   "metadata": {},
   "outputs": [],
   "source": [
    "#\tKarishma Sinha\n",
    "#\t2018339\n",
    "#\tCSE648: Privacy and Security in Online Social Media\n",
    "#   Section-I"
   ]
  },
  {
   "cell_type": "code",
   "execution_count": 38,
   "metadata": {},
   "outputs": [],
   "source": [
    "import pandas as pd"
   ]
  },
  {
   "cell_type": "code",
   "execution_count": 39,
   "metadata": {},
   "outputs": [],
   "source": [
    "reddit_df = pd.read_pickle('/Users/karishma/Downloads/datasets/redditDataset.pkl')"
   ]
  },
  {
   "cell_type": "code",
   "execution_count": 40,
   "metadata": {},
   "outputs": [
    {
     "data": {
      "text/html": [
       "<div>\n",
       "<style scoped>\n",
       "    .dataframe tbody tr th:only-of-type {\n",
       "        vertical-align: middle;\n",
       "    }\n",
       "\n",
       "    .dataframe tbody tr th {\n",
       "        vertical-align: top;\n",
       "    }\n",
       "\n",
       "    .dataframe thead th {\n",
       "        text-align: right;\n",
       "    }\n",
       "</style>\n",
       "<table border=\"1\" class=\"dataframe\">\n",
       "  <thead>\n",
       "    <tr style=\"text-align: right;\">\n",
       "      <th></th>\n",
       "      <th>text</th>\n",
       "      <th>subreddit</th>\n",
       "    </tr>\n",
       "  </thead>\n",
       "  <tbody>\n",
       "    <tr>\n",
       "      <th>0</th>\n",
       "      <td>that sounds like the answer of a man who does ...</td>\n",
       "      <td>humor</td>\n",
       "    </tr>\n",
       "    <tr>\n",
       "      <th>1</th>\n",
       "      <td>i always wonder what people get out of reposti...</td>\n",
       "      <td>humor</td>\n",
       "    </tr>\n",
       "    <tr>\n",
       "      <th>2</th>\n",
       "      <td>fuck that  downvote them for stalking you in t...</td>\n",
       "      <td>humor</td>\n",
       "    </tr>\n",
       "    <tr>\n",
       "      <th>3</th>\n",
       "      <td>seeing as how much this has been around  and a...</td>\n",
       "      <td>humor</td>\n",
       "    </tr>\n",
       "    <tr>\n",
       "      <th>4</th>\n",
       "      <td>it took me a while to even get my legally requ...</td>\n",
       "      <td>humor</td>\n",
       "    </tr>\n",
       "    <tr>\n",
       "      <th>...</th>\n",
       "      <td>...</td>\n",
       "      <td>...</td>\n",
       "    </tr>\n",
       "    <tr>\n",
       "      <th>99995</th>\n",
       "      <td>probably because it should nt be anyone else s...</td>\n",
       "      <td>news</td>\n",
       "    </tr>\n",
       "    <tr>\n",
       "      <th>99996</th>\n",
       "      <td>of course i do the sole responsibility of the ...</td>\n",
       "      <td>news</td>\n",
       "    </tr>\n",
       "    <tr>\n",
       "      <th>99997</th>\n",
       "      <td>its also just unwise if they block his pick lo...</td>\n",
       "      <td>news</td>\n",
       "    </tr>\n",
       "    <tr>\n",
       "      <th>99998</th>\n",
       "      <td>another  holographic storage  for us to hear a...</td>\n",
       "      <td>news</td>\n",
       "    </tr>\n",
       "    <tr>\n",
       "      <th>99999</th>\n",
       "      <td>he is correct  in that the fact the tea party ...</td>\n",
       "      <td>news</td>\n",
       "    </tr>\n",
       "  </tbody>\n",
       "</table>\n",
       "<p>100000 rows × 2 columns</p>\n",
       "</div>"
      ],
      "text/plain": [
       "                                                    text subreddit\n",
       "0      that sounds like the answer of a man who does ...     humor\n",
       "1      i always wonder what people get out of reposti...     humor\n",
       "2      fuck that  downvote them for stalking you in t...     humor\n",
       "3      seeing as how much this has been around  and a...     humor\n",
       "4      it took me a while to even get my legally requ...     humor\n",
       "...                                                  ...       ...\n",
       "99995  probably because it should nt be anyone else s...      news\n",
       "99996  of course i do the sole responsibility of the ...      news\n",
       "99997  its also just unwise if they block his pick lo...      news\n",
       "99998  another  holographic storage  for us to hear a...      news\n",
       "99999  he is correct  in that the fact the tea party ...      news\n",
       "\n",
       "[100000 rows x 2 columns]"
      ]
     },
     "execution_count": 40,
     "metadata": {},
     "output_type": "execute_result"
    }
   ],
   "source": [
    "reddit_df"
   ]
  },
  {
   "cell_type": "code",
   "execution_count": 41,
   "metadata": {},
   "outputs": [
    {
     "data": {
      "text/plain": [
       "text         object\n",
       "subreddit    object\n",
       "dtype: object"
      ]
     },
     "execution_count": 41,
     "metadata": {},
     "output_type": "execute_result"
    }
   ],
   "source": [
    "reddit_df.dtypes\n"
   ]
  },
  {
   "cell_type": "code",
   "execution_count": 42,
   "metadata": {},
   "outputs": [
    {
     "name": "stdout",
     "output_type": "stream",
     "text": [
      "2021-03-09 07:57:22,914 loading file /Users/karishma/.flair/models/sentiment-en-mix-distillbert_3.1.pt\n"
     ]
    }
   ],
   "source": [
    "import nltk\n",
    "#nltk.download('punkt')\n",
    "from nltk.tokenize import word_tokenize\n",
    "from nltk.stem import PorterStemmer\n",
    "from flair.models import TextClassifier\n",
    "from flair.data import Sentence\n",
    "import string\n",
    "emotion_classifier = TextClassifier.load('en-sentiment')"
   ]
  },
  {
   "cell_type": "code",
   "execution_count": 43,
   "metadata": {},
   "outputs": [],
   "source": [
    "def preprocess(row):\n",
    "    wordtok = []\n",
    "    words=str(row['text']).split()\n",
    "    #print (words)\n",
    "    for j in words:\n",
    "        #print(j)\n",
    "        wordtok += nltk.tokenize.word_tokenize(j)\n",
    "    wordtok = [i.lower() for i in wordtok]\n",
    "    #print(tokens)\n",
    "    obj=str.maketrans('', '',string.punctuation)\n",
    "    wordtok = [i.translate(obj) for i in wordtok]\n",
    "    stop_words = set(nltk.corpus.stopwords.words(\"english\"))\n",
    "    wordtok = [i for i in wordtok if i not in stop_words]\n",
    "    wordtok = [i for i in wordtok if len(i)>2]\n",
    "    #print(wordtok)\n",
    "    strwordtok = \" \"    \n",
    "    strwordtok= strwordtok.join(wordtok)  \n",
    "    #print(row['text'])\n",
    "    row['text']=strwordtok\n",
    "    #print(row['text'])\n",
    "    return None "
   ]
  },
  {
   "cell_type": "code",
   "execution_count": 44,
   "metadata": {},
   "outputs": [
    {
     "data": {
      "text/plain": [
       "85910    None\n",
       "9528     None\n",
       "19842    None\n",
       "71533    None\n",
       "80280    None\n",
       "         ... \n",
       "63563    None\n",
       "44587    None\n",
       "88648    None\n",
       "52044    None\n",
       "59775    None\n",
       "Length: 10000, dtype: object"
      ]
     },
     "execution_count": 44,
     "metadata": {},
     "output_type": "execute_result"
    }
   ],
   "source": [
    "reddit_df.sample(n=10000).apply (lambda row: preprocess(row), axis=1)"
   ]
  },
  {
   "cell_type": "code",
   "execution_count": 45,
   "metadata": {},
   "outputs": [
    {
     "data": {
      "text/html": [
       "<div>\n",
       "<style scoped>\n",
       "    .dataframe tbody tr th:only-of-type {\n",
       "        vertical-align: middle;\n",
       "    }\n",
       "\n",
       "    .dataframe tbody tr th {\n",
       "        vertical-align: top;\n",
       "    }\n",
       "\n",
       "    .dataframe thead th {\n",
       "        text-align: right;\n",
       "    }\n",
       "</style>\n",
       "<table border=\"1\" class=\"dataframe\">\n",
       "  <thead>\n",
       "    <tr style=\"text-align: right;\">\n",
       "      <th></th>\n",
       "      <th>text</th>\n",
       "      <th>subreddit</th>\n",
       "    </tr>\n",
       "  </thead>\n",
       "  <tbody>\n",
       "    <tr>\n",
       "      <th>0</th>\n",
       "      <td>that sounds like the answer of a man who does ...</td>\n",
       "      <td>humor</td>\n",
       "    </tr>\n",
       "    <tr>\n",
       "      <th>1</th>\n",
       "      <td>i always wonder what people get out of reposti...</td>\n",
       "      <td>humor</td>\n",
       "    </tr>\n",
       "    <tr>\n",
       "      <th>2</th>\n",
       "      <td>fuck that  downvote them for stalking you in t...</td>\n",
       "      <td>humor</td>\n",
       "    </tr>\n",
       "    <tr>\n",
       "      <th>3</th>\n",
       "      <td>seeing as how much this has been around  and a...</td>\n",
       "      <td>humor</td>\n",
       "    </tr>\n",
       "    <tr>\n",
       "      <th>4</th>\n",
       "      <td>it took me a while to even get my legally requ...</td>\n",
       "      <td>humor</td>\n",
       "    </tr>\n",
       "    <tr>\n",
       "      <th>...</th>\n",
       "      <td>...</td>\n",
       "      <td>...</td>\n",
       "    </tr>\n",
       "    <tr>\n",
       "      <th>49995</th>\n",
       "      <td>one of my top comments is about my gf teasing ...</td>\n",
       "      <td>humor</td>\n",
       "    </tr>\n",
       "    <tr>\n",
       "      <th>49996</th>\n",
       "      <td>it s not a big deal she s actually pretty luck...</td>\n",
       "      <td>humor</td>\n",
       "    </tr>\n",
       "    <tr>\n",
       "      <th>49997</th>\n",
       "      <td>he did you a favor the chocolate part is the b...</td>\n",
       "      <td>humor</td>\n",
       "    </tr>\n",
       "    <tr>\n",
       "      <th>49998</th>\n",
       "      <td>does nt always work  but a lot of the time i h...</td>\n",
       "      <td>humor</td>\n",
       "    </tr>\n",
       "    <tr>\n",
       "      <th>49999</th>\n",
       "      <td>taking a dick pic with front facing camera  it...</td>\n",
       "      <td>humor</td>\n",
       "    </tr>\n",
       "  </tbody>\n",
       "</table>\n",
       "<p>50000 rows × 2 columns</p>\n",
       "</div>"
      ],
      "text/plain": [
       "                                                    text subreddit\n",
       "0      that sounds like the answer of a man who does ...     humor\n",
       "1      i always wonder what people get out of reposti...     humor\n",
       "2      fuck that  downvote them for stalking you in t...     humor\n",
       "3      seeing as how much this has been around  and a...     humor\n",
       "4      it took me a while to even get my legally requ...     humor\n",
       "...                                                  ...       ...\n",
       "49995  one of my top comments is about my gf teasing ...     humor\n",
       "49996  it s not a big deal she s actually pretty luck...     humor\n",
       "49997  he did you a favor the chocolate part is the b...     humor\n",
       "49998  does nt always work  but a lot of the time i h...     humor\n",
       "49999  taking a dick pic with front facing camera  it...     humor\n",
       "\n",
       "[50000 rows x 2 columns]"
      ]
     },
     "execution_count": 45,
     "metadata": {},
     "output_type": "execute_result"
    }
   ],
   "source": [
    "humor_df=reddit_df[reddit_df['subreddit']=='humor']\n",
    "humor_df"
   ]
  },
  {
   "cell_type": "code",
   "execution_count": 46,
   "metadata": {},
   "outputs": [
    {
     "data": {
      "text/html": [
       "<div>\n",
       "<style scoped>\n",
       "    .dataframe tbody tr th:only-of-type {\n",
       "        vertical-align: middle;\n",
       "    }\n",
       "\n",
       "    .dataframe tbody tr th {\n",
       "        vertical-align: top;\n",
       "    }\n",
       "\n",
       "    .dataframe thead th {\n",
       "        text-align: right;\n",
       "    }\n",
       "</style>\n",
       "<table border=\"1\" class=\"dataframe\">\n",
       "  <thead>\n",
       "    <tr style=\"text-align: right;\">\n",
       "      <th></th>\n",
       "      <th>text</th>\n",
       "      <th>subreddit</th>\n",
       "    </tr>\n",
       "  </thead>\n",
       "  <tbody>\n",
       "    <tr>\n",
       "      <th>50000</th>\n",
       "      <td>just a hunch  people that write about this stu...</td>\n",
       "      <td>news</td>\n",
       "    </tr>\n",
       "    <tr>\n",
       "      <th>50001</th>\n",
       "      <td>before you all get too deep in to your selfrig...</td>\n",
       "      <td>news</td>\n",
       "    </tr>\n",
       "    <tr>\n",
       "      <th>50002</th>\n",
       "      <td>no one is saying he does nt have an impressive...</td>\n",
       "      <td>news</td>\n",
       "    </tr>\n",
       "    <tr>\n",
       "      <th>50003</th>\n",
       "      <td>there are so many things wrong with this i do ...</td>\n",
       "      <td>news</td>\n",
       "    </tr>\n",
       "    <tr>\n",
       "      <th>50004</th>\n",
       "      <td>hillary comes across on tv as a complete liar ...</td>\n",
       "      <td>news</td>\n",
       "    </tr>\n",
       "    <tr>\n",
       "      <th>...</th>\n",
       "      <td>...</td>\n",
       "      <td>...</td>\n",
       "    </tr>\n",
       "    <tr>\n",
       "      <th>99995</th>\n",
       "      <td>probably because it should nt be anyone else s...</td>\n",
       "      <td>news</td>\n",
       "    </tr>\n",
       "    <tr>\n",
       "      <th>99996</th>\n",
       "      <td>of course i do the sole responsibility of the ...</td>\n",
       "      <td>news</td>\n",
       "    </tr>\n",
       "    <tr>\n",
       "      <th>99997</th>\n",
       "      <td>its also just unwise if they block his pick lo...</td>\n",
       "      <td>news</td>\n",
       "    </tr>\n",
       "    <tr>\n",
       "      <th>99998</th>\n",
       "      <td>another  holographic storage  for us to hear a...</td>\n",
       "      <td>news</td>\n",
       "    </tr>\n",
       "    <tr>\n",
       "      <th>99999</th>\n",
       "      <td>he is correct  in that the fact the tea party ...</td>\n",
       "      <td>news</td>\n",
       "    </tr>\n",
       "  </tbody>\n",
       "</table>\n",
       "<p>50000 rows × 2 columns</p>\n",
       "</div>"
      ],
      "text/plain": [
       "                                                    text subreddit\n",
       "50000  just a hunch  people that write about this stu...      news\n",
       "50001  before you all get too deep in to your selfrig...      news\n",
       "50002  no one is saying he does nt have an impressive...      news\n",
       "50003  there are so many things wrong with this i do ...      news\n",
       "50004  hillary comes across on tv as a complete liar ...      news\n",
       "...                                                  ...       ...\n",
       "99995  probably because it should nt be anyone else s...      news\n",
       "99996  of course i do the sole responsibility of the ...      news\n",
       "99997  its also just unwise if they block his pick lo...      news\n",
       "99998  another  holographic storage  for us to hear a...      news\n",
       "99999  he is correct  in that the fact the tea party ...      news\n",
       "\n",
       "[50000 rows x 2 columns]"
      ]
     },
     "execution_count": 46,
     "metadata": {},
     "output_type": "execute_result"
    }
   ],
   "source": [
    "news_df=reddit_df[reddit_df['subreddit']=='news']\n",
    "news_df"
   ]
  },
  {
   "cell_type": "code",
   "execution_count": 47,
   "metadata": {},
   "outputs": [
    {
     "data": {
      "text/plain": [
       "Index(['text', 'subreddit'], dtype='object')"
      ]
     },
     "execution_count": 47,
     "metadata": {},
     "output_type": "execute_result"
    }
   ],
   "source": [
    "news_df.columns\n"
   ]
  },
  {
   "cell_type": "code",
   "execution_count": 48,
   "metadata": {},
   "outputs": [],
   "source": [
    "#news_df.iloc[1]['text']"
   ]
  },
  {
   "cell_type": "code",
   "execution_count": 49,
   "metadata": {},
   "outputs": [],
   "source": [
    "def add_polarity_flair(row):\n",
    "    inp0= row['text']\n",
    "    input_sentence0 = Sentence(inp0)\n",
    "    emotion_classifier.predict(input_sentence0)\n",
    "    return input_sentence0.labels"
   ]
  },
  {
   "cell_type": "code",
   "execution_count": 50,
   "metadata": {},
   "outputs": [],
   "source": [
    "humor_df1=humor_df.head(100)\n",
    "news_df1=news_df.head(100)"
   ]
  },
  {
   "cell_type": "code",
   "execution_count": 51,
   "metadata": {},
   "outputs": [],
   "source": [
    "#humor_df1.apply (lambda row: add_polarity_flair(row), axis=1)"
   ]
  },
  {
   "cell_type": "code",
   "execution_count": 52,
   "metadata": {},
   "outputs": [],
   "source": [
    "#news_df1.apply (lambda row: add_polarity_flair(row), axis=1)"
   ]
  },
  {
   "cell_type": "code",
   "execution_count": 53,
   "metadata": {},
   "outputs": [
    {
     "name": "stderr",
     "output_type": "stream",
     "text": [
      "<ipython-input-53-fb93a938e754>:1: SettingWithCopyWarning: \n",
      "A value is trying to be set on a copy of a slice from a DataFrame.\n",
      "Try using .loc[row_indexer,col_indexer] = value instead\n",
      "\n",
      "See the caveats in the documentation: https://pandas.pydata.org/pandas-docs/stable/user_guide/indexing.html#returning-a-view-versus-a-copy\n",
      "  humor_df1['Polarity'] = humor_df1.apply (lambda row: add_polarity_flair(row), axis=1)\n"
     ]
    },
    {
     "data": {
      "text/html": [
       "<div>\n",
       "<style scoped>\n",
       "    .dataframe tbody tr th:only-of-type {\n",
       "        vertical-align: middle;\n",
       "    }\n",
       "\n",
       "    .dataframe tbody tr th {\n",
       "        vertical-align: top;\n",
       "    }\n",
       "\n",
       "    .dataframe thead th {\n",
       "        text-align: right;\n",
       "    }\n",
       "</style>\n",
       "<table border=\"1\" class=\"dataframe\">\n",
       "  <thead>\n",
       "    <tr style=\"text-align: right;\">\n",
       "      <th></th>\n",
       "      <th>text</th>\n",
       "      <th>subreddit</th>\n",
       "      <th>Polarity</th>\n",
       "    </tr>\n",
       "  </thead>\n",
       "  <tbody>\n",
       "    <tr>\n",
       "      <th>0</th>\n",
       "      <td>that sounds like the answer of a man who does ...</td>\n",
       "      <td>humor</td>\n",
       "      <td>[NEGATIVE (0.9989)]</td>\n",
       "    </tr>\n",
       "    <tr>\n",
       "      <th>1</th>\n",
       "      <td>i always wonder what people get out of reposti...</td>\n",
       "      <td>humor</td>\n",
       "      <td>[NEGATIVE (0.9998)]</td>\n",
       "    </tr>\n",
       "    <tr>\n",
       "      <th>2</th>\n",
       "      <td>fuck that  downvote them for stalking you in t...</td>\n",
       "      <td>humor</td>\n",
       "      <td>[NEGATIVE (0.9815)]</td>\n",
       "    </tr>\n",
       "    <tr>\n",
       "      <th>3</th>\n",
       "      <td>seeing as how much this has been around  and a...</td>\n",
       "      <td>humor</td>\n",
       "      <td>[NEGATIVE (1.0)]</td>\n",
       "    </tr>\n",
       "    <tr>\n",
       "      <th>4</th>\n",
       "      <td>it took me a while to even get my legally requ...</td>\n",
       "      <td>humor</td>\n",
       "      <td>[NEGATIVE (0.9994)]</td>\n",
       "    </tr>\n",
       "    <tr>\n",
       "      <th>...</th>\n",
       "      <td>...</td>\n",
       "      <td>...</td>\n",
       "      <td>...</td>\n",
       "    </tr>\n",
       "    <tr>\n",
       "      <th>95</th>\n",
       "      <td>anyone can call themselves anything  whether o...</td>\n",
       "      <td>humor</td>\n",
       "      <td>[NEGATIVE (0.9999)]</td>\n",
       "    </tr>\n",
       "    <tr>\n",
       "      <th>96</th>\n",
       "      <td>nixon gets impeached for editing audio recordi...</td>\n",
       "      <td>humor</td>\n",
       "      <td>[NEGATIVE (0.9411)]</td>\n",
       "    </tr>\n",
       "    <tr>\n",
       "      <th>97</th>\n",
       "      <td>as an apartment maintenance guy the oxygen amp...</td>\n",
       "      <td>humor</td>\n",
       "      <td>[NEGATIVE (0.8834)]</td>\n",
       "    </tr>\n",
       "    <tr>\n",
       "      <th>98</th>\n",
       "      <td>bernie s album was a lot heavier and touches o...</td>\n",
       "      <td>humor</td>\n",
       "      <td>[NEGATIVE (0.984)]</td>\n",
       "    </tr>\n",
       "    <tr>\n",
       "      <th>99</th>\n",
       "      <td>a large part of me wanted the k9 s handler to ...</td>\n",
       "      <td>humor</td>\n",
       "      <td>[NEGATIVE (0.995)]</td>\n",
       "    </tr>\n",
       "  </tbody>\n",
       "</table>\n",
       "<p>100 rows × 3 columns</p>\n",
       "</div>"
      ],
      "text/plain": [
       "                                                 text subreddit  \\\n",
       "0   that sounds like the answer of a man who does ...     humor   \n",
       "1   i always wonder what people get out of reposti...     humor   \n",
       "2   fuck that  downvote them for stalking you in t...     humor   \n",
       "3   seeing as how much this has been around  and a...     humor   \n",
       "4   it took me a while to even get my legally requ...     humor   \n",
       "..                                                ...       ...   \n",
       "95  anyone can call themselves anything  whether o...     humor   \n",
       "96  nixon gets impeached for editing audio recordi...     humor   \n",
       "97  as an apartment maintenance guy the oxygen amp...     humor   \n",
       "98  bernie s album was a lot heavier and touches o...     humor   \n",
       "99  a large part of me wanted the k9 s handler to ...     humor   \n",
       "\n",
       "               Polarity  \n",
       "0   [NEGATIVE (0.9989)]  \n",
       "1   [NEGATIVE (0.9998)]  \n",
       "2   [NEGATIVE (0.9815)]  \n",
       "3      [NEGATIVE (1.0)]  \n",
       "4   [NEGATIVE (0.9994)]  \n",
       "..                  ...  \n",
       "95  [NEGATIVE (0.9999)]  \n",
       "96  [NEGATIVE (0.9411)]  \n",
       "97  [NEGATIVE (0.8834)]  \n",
       "98   [NEGATIVE (0.984)]  \n",
       "99   [NEGATIVE (0.995)]  \n",
       "\n",
       "[100 rows x 3 columns]"
      ]
     },
     "execution_count": 53,
     "metadata": {},
     "output_type": "execute_result"
    }
   ],
   "source": [
    "humor_df1['Polarity'] = humor_df1.apply (lambda row: add_polarity_flair(row), axis=1)\n",
    "humor_df1"
   ]
  },
  {
   "cell_type": "code",
   "execution_count": 54,
   "metadata": {},
   "outputs": [
    {
     "name": "stderr",
     "output_type": "stream",
     "text": [
      "<ipython-input-54-7111dd82c121>:1: SettingWithCopyWarning: \n",
      "A value is trying to be set on a copy of a slice from a DataFrame.\n",
      "Try using .loc[row_indexer,col_indexer] = value instead\n",
      "\n",
      "See the caveats in the documentation: https://pandas.pydata.org/pandas-docs/stable/user_guide/indexing.html#returning-a-view-versus-a-copy\n",
      "  news_df1['Polarity'] = news_df1.apply (lambda row: add_polarity_flair(row), axis=1)\n"
     ]
    },
    {
     "data": {
      "text/html": [
       "<div>\n",
       "<style scoped>\n",
       "    .dataframe tbody tr th:only-of-type {\n",
       "        vertical-align: middle;\n",
       "    }\n",
       "\n",
       "    .dataframe tbody tr th {\n",
       "        vertical-align: top;\n",
       "    }\n",
       "\n",
       "    .dataframe thead th {\n",
       "        text-align: right;\n",
       "    }\n",
       "</style>\n",
       "<table border=\"1\" class=\"dataframe\">\n",
       "  <thead>\n",
       "    <tr style=\"text-align: right;\">\n",
       "      <th></th>\n",
       "      <th>text</th>\n",
       "      <th>subreddit</th>\n",
       "      <th>Polarity</th>\n",
       "    </tr>\n",
       "  </thead>\n",
       "  <tbody>\n",
       "    <tr>\n",
       "      <th>50000</th>\n",
       "      <td>just a hunch  people that write about this stu...</td>\n",
       "      <td>news</td>\n",
       "      <td>[NEGATIVE (1.0)]</td>\n",
       "    </tr>\n",
       "    <tr>\n",
       "      <th>50001</th>\n",
       "      <td>before you all get too deep in to your selfrig...</td>\n",
       "      <td>news</td>\n",
       "      <td>[NEGATIVE (0.994)]</td>\n",
       "    </tr>\n",
       "    <tr>\n",
       "      <th>50002</th>\n",
       "      <td>no one is saying he does nt have an impressive...</td>\n",
       "      <td>news</td>\n",
       "      <td>[NEGATIVE (0.9997)]</td>\n",
       "    </tr>\n",
       "    <tr>\n",
       "      <th>50003</th>\n",
       "      <td>there are so many things wrong with this i do ...</td>\n",
       "      <td>news</td>\n",
       "      <td>[NEGATIVE (0.9999)]</td>\n",
       "    </tr>\n",
       "    <tr>\n",
       "      <th>50004</th>\n",
       "      <td>hillary comes across on tv as a complete liar ...</td>\n",
       "      <td>news</td>\n",
       "      <td>[NEGATIVE (0.9993)]</td>\n",
       "    </tr>\n",
       "    <tr>\n",
       "      <th>...</th>\n",
       "      <td>...</td>\n",
       "      <td>...</td>\n",
       "      <td>...</td>\n",
       "    </tr>\n",
       "    <tr>\n",
       "      <th>50095</th>\n",
       "      <td>thanks for the comments glad you have nt been ...</td>\n",
       "      <td>news</td>\n",
       "      <td>[NEGATIVE (0.9408)]</td>\n",
       "    </tr>\n",
       "    <tr>\n",
       "      <th>50096</th>\n",
       "      <td>we also had elections for congress and guess w...</td>\n",
       "      <td>news</td>\n",
       "      <td>[NEGATIVE (1.0)]</td>\n",
       "    </tr>\n",
       "    <tr>\n",
       "      <th>50097</th>\n",
       "      <td>gt  the former news manager at twitter and the...</td>\n",
       "      <td>news</td>\n",
       "      <td>[NEGATIVE (0.9953)]</td>\n",
       "    </tr>\n",
       "    <tr>\n",
       "      <th>50098</th>\n",
       "      <td>i think the biggest loss to that race was no b...</td>\n",
       "      <td>news</td>\n",
       "      <td>[NEGATIVE (0.8402)]</td>\n",
       "    </tr>\n",
       "    <tr>\n",
       "      <th>50099</th>\n",
       "      <td>the creator of bitcoin  is helping him  no on...</td>\n",
       "      <td>news</td>\n",
       "      <td>[NEGATIVE (0.9999)]</td>\n",
       "    </tr>\n",
       "  </tbody>\n",
       "</table>\n",
       "<p>100 rows × 3 columns</p>\n",
       "</div>"
      ],
      "text/plain": [
       "                                                    text subreddit  \\\n",
       "50000  just a hunch  people that write about this stu...      news   \n",
       "50001  before you all get too deep in to your selfrig...      news   \n",
       "50002  no one is saying he does nt have an impressive...      news   \n",
       "50003  there are so many things wrong with this i do ...      news   \n",
       "50004  hillary comes across on tv as a complete liar ...      news   \n",
       "...                                                  ...       ...   \n",
       "50095  thanks for the comments glad you have nt been ...      news   \n",
       "50096  we also had elections for congress and guess w...      news   \n",
       "50097  gt  the former news manager at twitter and the...      news   \n",
       "50098  i think the biggest loss to that race was no b...      news   \n",
       "50099   the creator of bitcoin  is helping him  no on...      news   \n",
       "\n",
       "                  Polarity  \n",
       "50000     [NEGATIVE (1.0)]  \n",
       "50001   [NEGATIVE (0.994)]  \n",
       "50002  [NEGATIVE (0.9997)]  \n",
       "50003  [NEGATIVE (0.9999)]  \n",
       "50004  [NEGATIVE (0.9993)]  \n",
       "...                    ...  \n",
       "50095  [NEGATIVE (0.9408)]  \n",
       "50096     [NEGATIVE (1.0)]  \n",
       "50097  [NEGATIVE (0.9953)]  \n",
       "50098  [NEGATIVE (0.8402)]  \n",
       "50099  [NEGATIVE (0.9999)]  \n",
       "\n",
       "[100 rows x 3 columns]"
      ]
     },
     "execution_count": 54,
     "metadata": {},
     "output_type": "execute_result"
    }
   ],
   "source": [
    "news_df1['Polarity'] = news_df1.apply (lambda row: add_polarity_flair(row), axis=1)\n",
    "news_df1"
   ]
  },
  {
   "cell_type": "code",
   "execution_count": 55,
   "metadata": {},
   "outputs": [],
   "source": [
    "#pip install textblob"
   ]
  },
  {
   "cell_type": "code",
   "execution_count": 56,
   "metadata": {},
   "outputs": [],
   "source": [
    "from textblob import TextBlob"
   ]
  },
  {
   "cell_type": "code",
   "execution_count": 57,
   "metadata": {},
   "outputs": [],
   "source": [
    "#news_df"
   ]
  },
  {
   "cell_type": "code",
   "execution_count": 58,
   "metadata": {},
   "outputs": [
    {
     "name": "stdout",
     "output_type": "stream",
     "text": [
      "50000\n",
      "100000\n",
      "50000\n"
     ]
    }
   ],
   "source": [
    "print(len(news_df))\n",
    "print(len(reddit_df))\n",
    "print(len(humor_df))"
   ]
  },
  {
   "cell_type": "code",
   "execution_count": 59,
   "metadata": {},
   "outputs": [],
   "source": [
    "def add_polarity(row):\n",
    "    return TextBlob(row['text']).sentiment.polarity\n"
   ]
  },
  {
   "cell_type": "code",
   "execution_count": 60,
   "metadata": {},
   "outputs": [],
   "source": [
    "def add_subjectivity(row):\n",
    "    return TextBlob(row['text']).sentiment.subjectivity"
   ]
  },
  {
   "cell_type": "code",
   "execution_count": 61,
   "metadata": {},
   "outputs": [],
   "source": [
    "#news_df.apply (lambda row: add_polarity(row), axis=1)"
   ]
  },
  {
   "cell_type": "code",
   "execution_count": 62,
   "metadata": {},
   "outputs": [],
   "source": [
    "#news_df.apply (lambda row: add_subjectivity(row), axis=1)"
   ]
  },
  {
   "cell_type": "code",
   "execution_count": 63,
   "metadata": {},
   "outputs": [
    {
     "name": "stderr",
     "output_type": "stream",
     "text": [
      "<ipython-input-63-73099ee6dfa8>:1: SettingWithCopyWarning: \n",
      "A value is trying to be set on a copy of a slice from a DataFrame.\n",
      "Try using .loc[row_indexer,col_indexer] = value instead\n",
      "\n",
      "See the caveats in the documentation: https://pandas.pydata.org/pandas-docs/stable/user_guide/indexing.html#returning-a-view-versus-a-copy\n",
      "  news_df['Polarity'] = news_df.apply (lambda row: add_polarity(row), axis=1)\n",
      "<ipython-input-63-73099ee6dfa8>:2: SettingWithCopyWarning: \n",
      "A value is trying to be set on a copy of a slice from a DataFrame.\n",
      "Try using .loc[row_indexer,col_indexer] = value instead\n",
      "\n",
      "See the caveats in the documentation: https://pandas.pydata.org/pandas-docs/stable/user_guide/indexing.html#returning-a-view-versus-a-copy\n",
      "  news_df['subjectivity'] = news_df.apply (lambda row: add_subjectivity(row), axis=1)\n"
     ]
    },
    {
     "data": {
      "text/html": [
       "<div>\n",
       "<style scoped>\n",
       "    .dataframe tbody tr th:only-of-type {\n",
       "        vertical-align: middle;\n",
       "    }\n",
       "\n",
       "    .dataframe tbody tr th {\n",
       "        vertical-align: top;\n",
       "    }\n",
       "\n",
       "    .dataframe thead th {\n",
       "        text-align: right;\n",
       "    }\n",
       "</style>\n",
       "<table border=\"1\" class=\"dataframe\">\n",
       "  <thead>\n",
       "    <tr style=\"text-align: right;\">\n",
       "      <th></th>\n",
       "      <th>text</th>\n",
       "      <th>subreddit</th>\n",
       "      <th>Polarity</th>\n",
       "      <th>subjectivity</th>\n",
       "    </tr>\n",
       "  </thead>\n",
       "  <tbody>\n",
       "    <tr>\n",
       "      <th>50000</th>\n",
       "      <td>just a hunch  people that write about this stu...</td>\n",
       "      <td>news</td>\n",
       "      <td>0.062500</td>\n",
       "      <td>0.458333</td>\n",
       "    </tr>\n",
       "    <tr>\n",
       "      <th>50001</th>\n",
       "      <td>before you all get too deep in to your selfrig...</td>\n",
       "      <td>news</td>\n",
       "      <td>0.195089</td>\n",
       "      <td>0.466964</td>\n",
       "    </tr>\n",
       "    <tr>\n",
       "      <th>50002</th>\n",
       "      <td>no one is saying he does nt have an impressive...</td>\n",
       "      <td>news</td>\n",
       "      <td>0.253968</td>\n",
       "      <td>0.467857</td>\n",
       "    </tr>\n",
       "    <tr>\n",
       "      <th>50003</th>\n",
       "      <td>there are so many things wrong with this i do ...</td>\n",
       "      <td>news</td>\n",
       "      <td>0.080000</td>\n",
       "      <td>0.620000</td>\n",
       "    </tr>\n",
       "    <tr>\n",
       "      <th>50004</th>\n",
       "      <td>hillary comes across on tv as a complete liar ...</td>\n",
       "      <td>news</td>\n",
       "      <td>0.016667</td>\n",
       "      <td>0.409524</td>\n",
       "    </tr>\n",
       "    <tr>\n",
       "      <th>...</th>\n",
       "      <td>...</td>\n",
       "      <td>...</td>\n",
       "      <td>...</td>\n",
       "      <td>...</td>\n",
       "    </tr>\n",
       "    <tr>\n",
       "      <th>99995</th>\n",
       "      <td>probably because it should nt be anyone else s...</td>\n",
       "      <td>news</td>\n",
       "      <td>-0.183333</td>\n",
       "      <td>0.383333</td>\n",
       "    </tr>\n",
       "    <tr>\n",
       "      <th>99996</th>\n",
       "      <td>of course i do the sole responsibility of the ...</td>\n",
       "      <td>news</td>\n",
       "      <td>0.000000</td>\n",
       "      <td>0.250000</td>\n",
       "    </tr>\n",
       "    <tr>\n",
       "      <th>99997</th>\n",
       "      <td>its also just unwise if they block his pick lo...</td>\n",
       "      <td>news</td>\n",
       "      <td>-0.190000</td>\n",
       "      <td>0.680000</td>\n",
       "    </tr>\n",
       "    <tr>\n",
       "      <th>99998</th>\n",
       "      <td>another  holographic storage  for us to hear a...</td>\n",
       "      <td>news</td>\n",
       "      <td>0.200000</td>\n",
       "      <td>0.200000</td>\n",
       "    </tr>\n",
       "    <tr>\n",
       "      <th>99999</th>\n",
       "      <td>he is correct  in that the fact the tea party ...</td>\n",
       "      <td>news</td>\n",
       "      <td>-0.350000</td>\n",
       "      <td>0.333333</td>\n",
       "    </tr>\n",
       "  </tbody>\n",
       "</table>\n",
       "<p>50000 rows × 4 columns</p>\n",
       "</div>"
      ],
      "text/plain": [
       "                                                    text subreddit  Polarity  \\\n",
       "50000  just a hunch  people that write about this stu...      news  0.062500   \n",
       "50001  before you all get too deep in to your selfrig...      news  0.195089   \n",
       "50002  no one is saying he does nt have an impressive...      news  0.253968   \n",
       "50003  there are so many things wrong with this i do ...      news  0.080000   \n",
       "50004  hillary comes across on tv as a complete liar ...      news  0.016667   \n",
       "...                                                  ...       ...       ...   \n",
       "99995  probably because it should nt be anyone else s...      news -0.183333   \n",
       "99996  of course i do the sole responsibility of the ...      news  0.000000   \n",
       "99997  its also just unwise if they block his pick lo...      news -0.190000   \n",
       "99998  another  holographic storage  for us to hear a...      news  0.200000   \n",
       "99999  he is correct  in that the fact the tea party ...      news -0.350000   \n",
       "\n",
       "       subjectivity  \n",
       "50000      0.458333  \n",
       "50001      0.466964  \n",
       "50002      0.467857  \n",
       "50003      0.620000  \n",
       "50004      0.409524  \n",
       "...             ...  \n",
       "99995      0.383333  \n",
       "99996      0.250000  \n",
       "99997      0.680000  \n",
       "99998      0.200000  \n",
       "99999      0.333333  \n",
       "\n",
       "[50000 rows x 4 columns]"
      ]
     },
     "execution_count": 63,
     "metadata": {},
     "output_type": "execute_result"
    }
   ],
   "source": [
    "news_df['Polarity'] = news_df.apply (lambda row: add_polarity(row), axis=1)\n",
    "news_df['subjectivity'] = news_df.apply (lambda row: add_subjectivity(row), axis=1)\n",
    "\n",
    "news_df"
   ]
  },
  {
   "cell_type": "code",
   "execution_count": 64,
   "metadata": {
    "scrolled": false
   },
   "outputs": [
    {
     "name": "stderr",
     "output_type": "stream",
     "text": [
      "<ipython-input-64-ac9228195417>:1: SettingWithCopyWarning: \n",
      "A value is trying to be set on a copy of a slice from a DataFrame.\n",
      "Try using .loc[row_indexer,col_indexer] = value instead\n",
      "\n",
      "See the caveats in the documentation: https://pandas.pydata.org/pandas-docs/stable/user_guide/indexing.html#returning-a-view-versus-a-copy\n",
      "  humor_df['Polarity'] = humor_df.apply (lambda row: add_polarity(row), axis=1)\n",
      "<ipython-input-64-ac9228195417>:2: SettingWithCopyWarning: \n",
      "A value is trying to be set on a copy of a slice from a DataFrame.\n",
      "Try using .loc[row_indexer,col_indexer] = value instead\n",
      "\n",
      "See the caveats in the documentation: https://pandas.pydata.org/pandas-docs/stable/user_guide/indexing.html#returning-a-view-versus-a-copy\n",
      "  humor_df['subjectivity'] = humor_df.apply (lambda row: add_subjectivity(row), axis=1)\n"
     ]
    },
    {
     "data": {
      "text/html": [
       "<div>\n",
       "<style scoped>\n",
       "    .dataframe tbody tr th:only-of-type {\n",
       "        vertical-align: middle;\n",
       "    }\n",
       "\n",
       "    .dataframe tbody tr th {\n",
       "        vertical-align: top;\n",
       "    }\n",
       "\n",
       "    .dataframe thead th {\n",
       "        text-align: right;\n",
       "    }\n",
       "</style>\n",
       "<table border=\"1\" class=\"dataframe\">\n",
       "  <thead>\n",
       "    <tr style=\"text-align: right;\">\n",
       "      <th></th>\n",
       "      <th>text</th>\n",
       "      <th>subreddit</th>\n",
       "      <th>Polarity</th>\n",
       "      <th>subjectivity</th>\n",
       "    </tr>\n",
       "  </thead>\n",
       "  <tbody>\n",
       "    <tr>\n",
       "      <th>0</th>\n",
       "      <td>that sounds like the answer of a man who does ...</td>\n",
       "      <td>humor</td>\n",
       "      <td>-0.005556</td>\n",
       "      <td>0.138889</td>\n",
       "    </tr>\n",
       "    <tr>\n",
       "      <th>1</th>\n",
       "      <td>i always wonder what people get out of reposti...</td>\n",
       "      <td>humor</td>\n",
       "      <td>-0.029167</td>\n",
       "      <td>0.800000</td>\n",
       "    </tr>\n",
       "    <tr>\n",
       "      <th>2</th>\n",
       "      <td>fuck that  downvote them for stalking you in t...</td>\n",
       "      <td>humor</td>\n",
       "      <td>-0.200000</td>\n",
       "      <td>0.362500</td>\n",
       "    </tr>\n",
       "    <tr>\n",
       "      <th>3</th>\n",
       "      <td>seeing as how much this has been around  and a...</td>\n",
       "      <td>humor</td>\n",
       "      <td>0.350000</td>\n",
       "      <td>0.350000</td>\n",
       "    </tr>\n",
       "    <tr>\n",
       "      <th>4</th>\n",
       "      <td>it took me a while to even get my legally requ...</td>\n",
       "      <td>humor</td>\n",
       "      <td>-0.029167</td>\n",
       "      <td>0.304167</td>\n",
       "    </tr>\n",
       "    <tr>\n",
       "      <th>...</th>\n",
       "      <td>...</td>\n",
       "      <td>...</td>\n",
       "      <td>...</td>\n",
       "      <td>...</td>\n",
       "    </tr>\n",
       "    <tr>\n",
       "      <th>49995</th>\n",
       "      <td>one of my top comments is about my gf teasing ...</td>\n",
       "      <td>humor</td>\n",
       "      <td>0.282500</td>\n",
       "      <td>0.540000</td>\n",
       "    </tr>\n",
       "    <tr>\n",
       "      <th>49996</th>\n",
       "      <td>it s not a big deal she s actually pretty luck...</td>\n",
       "      <td>humor</td>\n",
       "      <td>0.185556</td>\n",
       "      <td>0.544444</td>\n",
       "    </tr>\n",
       "    <tr>\n",
       "      <th>49997</th>\n",
       "      <td>he did you a favor the chocolate part is the b...</td>\n",
       "      <td>humor</td>\n",
       "      <td>0.500000</td>\n",
       "      <td>0.150000</td>\n",
       "    </tr>\n",
       "    <tr>\n",
       "      <th>49998</th>\n",
       "      <td>does nt always work  but a lot of the time i h...</td>\n",
       "      <td>humor</td>\n",
       "      <td>0.633333</td>\n",
       "      <td>0.579167</td>\n",
       "    </tr>\n",
       "    <tr>\n",
       "      <th>49999</th>\n",
       "      <td>taking a dick pic with front facing camera  it...</td>\n",
       "      <td>humor</td>\n",
       "      <td>0.333333</td>\n",
       "      <td>0.666667</td>\n",
       "    </tr>\n",
       "  </tbody>\n",
       "</table>\n",
       "<p>50000 rows × 4 columns</p>\n",
       "</div>"
      ],
      "text/plain": [
       "                                                    text subreddit  Polarity  \\\n",
       "0      that sounds like the answer of a man who does ...     humor -0.005556   \n",
       "1      i always wonder what people get out of reposti...     humor -0.029167   \n",
       "2      fuck that  downvote them for stalking you in t...     humor -0.200000   \n",
       "3      seeing as how much this has been around  and a...     humor  0.350000   \n",
       "4      it took me a while to even get my legally requ...     humor -0.029167   \n",
       "...                                                  ...       ...       ...   \n",
       "49995  one of my top comments is about my gf teasing ...     humor  0.282500   \n",
       "49996  it s not a big deal she s actually pretty luck...     humor  0.185556   \n",
       "49997  he did you a favor the chocolate part is the b...     humor  0.500000   \n",
       "49998  does nt always work  but a lot of the time i h...     humor  0.633333   \n",
       "49999  taking a dick pic with front facing camera  it...     humor  0.333333   \n",
       "\n",
       "       subjectivity  \n",
       "0          0.138889  \n",
       "1          0.800000  \n",
       "2          0.362500  \n",
       "3          0.350000  \n",
       "4          0.304167  \n",
       "...             ...  \n",
       "49995      0.540000  \n",
       "49996      0.544444  \n",
       "49997      0.150000  \n",
       "49998      0.579167  \n",
       "49999      0.666667  \n",
       "\n",
       "[50000 rows x 4 columns]"
      ]
     },
     "execution_count": 64,
     "metadata": {},
     "output_type": "execute_result"
    }
   ],
   "source": [
    "humor_df['Polarity'] = humor_df.apply (lambda row: add_polarity(row), axis=1)\n",
    "humor_df['subjectivity'] = humor_df.apply (lambda row: add_subjectivity(row), axis=1)\n",
    "\n",
    "humor_df"
   ]
  },
  {
   "cell_type": "code",
   "execution_count": 65,
   "metadata": {},
   "outputs": [],
   "source": [
    "def club_polarity(row):\n",
    "    if row['Polarity']>0.0:\n",
    "        return \"Positive\"\n",
    "    elif row['Polarity']==0.0:\n",
    "        return \"Neutral\"\n",
    "    elif row['Polarity']<0.0:\n",
    "        return \"Negative\"\n"
   ]
  },
  {
   "cell_type": "code",
   "execution_count": 66,
   "metadata": {},
   "outputs": [],
   "source": [
    "def club_subjectivity(row):\n",
    "    if row['subjectivity']>=0.5:\n",
    "        return \"Subjective\"\n",
    "    elif row['subjectivity']<0.5:\n",
    "        return \"Objective\""
   ]
  },
  {
   "cell_type": "code",
   "execution_count": 67,
   "metadata": {},
   "outputs": [
    {
     "data": {
      "text/plain": [
       "0        Negative\n",
       "1        Negative\n",
       "2        Negative\n",
       "3        Positive\n",
       "4        Negative\n",
       "           ...   \n",
       "49995    Positive\n",
       "49996    Positive\n",
       "49997    Positive\n",
       "49998    Positive\n",
       "49999    Positive\n",
       "Length: 50000, dtype: object"
      ]
     },
     "execution_count": 67,
     "metadata": {},
     "output_type": "execute_result"
    }
   ],
   "source": [
    "humor_df.apply (lambda row: club_polarity(row), axis=1)"
   ]
  },
  {
   "cell_type": "code",
   "execution_count": 68,
   "metadata": {},
   "outputs": [
    {
     "name": "stderr",
     "output_type": "stream",
     "text": [
      "<ipython-input-68-b14148952b92>:1: SettingWithCopyWarning: \n",
      "A value is trying to be set on a copy of a slice from a DataFrame.\n",
      "Try using .loc[row_indexer,col_indexer] = value instead\n",
      "\n",
      "See the caveats in the documentation: https://pandas.pydata.org/pandas-docs/stable/user_guide/indexing.html#returning-a-view-versus-a-copy\n",
      "  humor_df['Subj/Obj']=humor_df.apply (lambda row: club_subjectivity(row), axis=1)\n"
     ]
    }
   ],
   "source": [
    "humor_df['Subj/Obj']=humor_df.apply (lambda row: club_subjectivity(row), axis=1)"
   ]
  },
  {
   "cell_type": "code",
   "execution_count": 69,
   "metadata": {},
   "outputs": [
    {
     "name": "stderr",
     "output_type": "stream",
     "text": [
      "<ipython-input-69-3f14a8184370>:1: SettingWithCopyWarning: \n",
      "A value is trying to be set on a copy of a slice from a DataFrame.\n",
      "Try using .loc[row_indexer,col_indexer] = value instead\n",
      "\n",
      "See the caveats in the documentation: https://pandas.pydata.org/pandas-docs/stable/user_guide/indexing.html#returning-a-view-versus-a-copy\n",
      "  news_df['Subj/Obj']=news_df.apply (lambda row: club_subjectivity(row), axis=1)\n"
     ]
    }
   ],
   "source": [
    "news_df['Subj/Obj']=news_df.apply (lambda row: club_subjectivity(row), axis=1)"
   ]
  },
  {
   "cell_type": "code",
   "execution_count": 70,
   "metadata": {},
   "outputs": [
    {
     "name": "stderr",
     "output_type": "stream",
     "text": [
      "<ipython-input-70-6997cb26ab12>:1: SettingWithCopyWarning: \n",
      "A value is trying to be set on a copy of a slice from a DataFrame.\n",
      "Try using .loc[row_indexer,col_indexer] = value instead\n",
      "\n",
      "See the caveats in the documentation: https://pandas.pydata.org/pandas-docs/stable/user_guide/indexing.html#returning-a-view-versus-a-copy\n",
      "  humor_df['TypeOfPolarity'] = humor_df.apply (lambda row: club_polarity(row), axis=1)\n"
     ]
    }
   ],
   "source": [
    "humor_df['TypeOfPolarity'] = humor_df.apply (lambda row: club_polarity(row), axis=1)"
   ]
  },
  {
   "cell_type": "code",
   "execution_count": 71,
   "metadata": {},
   "outputs": [
    {
     "name": "stderr",
     "output_type": "stream",
     "text": [
      "<ipython-input-71-2f48f1257654>:1: SettingWithCopyWarning: \n",
      "A value is trying to be set on a copy of a slice from a DataFrame.\n",
      "Try using .loc[row_indexer,col_indexer] = value instead\n",
      "\n",
      "See the caveats in the documentation: https://pandas.pydata.org/pandas-docs/stable/user_guide/indexing.html#returning-a-view-versus-a-copy\n",
      "  news_df['TypeOfPolarity'] = news_df.apply (lambda row: club_polarity(row), axis=1)\n"
     ]
    }
   ],
   "source": [
    "news_df['TypeOfPolarity'] = news_df.apply (lambda row: club_polarity(row), axis=1)"
   ]
  },
  {
   "cell_type": "code",
   "execution_count": 72,
   "metadata": {},
   "outputs": [
    {
     "data": {
      "text/html": [
       "<div>\n",
       "<style scoped>\n",
       "    .dataframe tbody tr th:only-of-type {\n",
       "        vertical-align: middle;\n",
       "    }\n",
       "\n",
       "    .dataframe tbody tr th {\n",
       "        vertical-align: top;\n",
       "    }\n",
       "\n",
       "    .dataframe thead th {\n",
       "        text-align: right;\n",
       "    }\n",
       "</style>\n",
       "<table border=\"1\" class=\"dataframe\">\n",
       "  <thead>\n",
       "    <tr style=\"text-align: right;\">\n",
       "      <th></th>\n",
       "      <th>text</th>\n",
       "      <th>subreddit</th>\n",
       "      <th>Polarity</th>\n",
       "      <th>subjectivity</th>\n",
       "      <th>Subj/Obj</th>\n",
       "      <th>TypeOfPolarity</th>\n",
       "    </tr>\n",
       "  </thead>\n",
       "  <tbody>\n",
       "    <tr>\n",
       "      <th>0</th>\n",
       "      <td>that sounds like the answer of a man who does ...</td>\n",
       "      <td>humor</td>\n",
       "      <td>-0.005556</td>\n",
       "      <td>0.138889</td>\n",
       "      <td>Objective</td>\n",
       "      <td>Negative</td>\n",
       "    </tr>\n",
       "    <tr>\n",
       "      <th>1</th>\n",
       "      <td>i always wonder what people get out of reposti...</td>\n",
       "      <td>humor</td>\n",
       "      <td>-0.029167</td>\n",
       "      <td>0.800000</td>\n",
       "      <td>Subjective</td>\n",
       "      <td>Negative</td>\n",
       "    </tr>\n",
       "    <tr>\n",
       "      <th>2</th>\n",
       "      <td>fuck that  downvote them for stalking you in t...</td>\n",
       "      <td>humor</td>\n",
       "      <td>-0.200000</td>\n",
       "      <td>0.362500</td>\n",
       "      <td>Objective</td>\n",
       "      <td>Negative</td>\n",
       "    </tr>\n",
       "    <tr>\n",
       "      <th>3</th>\n",
       "      <td>seeing as how much this has been around  and a...</td>\n",
       "      <td>humor</td>\n",
       "      <td>0.350000</td>\n",
       "      <td>0.350000</td>\n",
       "      <td>Objective</td>\n",
       "      <td>Positive</td>\n",
       "    </tr>\n",
       "    <tr>\n",
       "      <th>4</th>\n",
       "      <td>it took me a while to even get my legally requ...</td>\n",
       "      <td>humor</td>\n",
       "      <td>-0.029167</td>\n",
       "      <td>0.304167</td>\n",
       "      <td>Objective</td>\n",
       "      <td>Negative</td>\n",
       "    </tr>\n",
       "    <tr>\n",
       "      <th>...</th>\n",
       "      <td>...</td>\n",
       "      <td>...</td>\n",
       "      <td>...</td>\n",
       "      <td>...</td>\n",
       "      <td>...</td>\n",
       "      <td>...</td>\n",
       "    </tr>\n",
       "    <tr>\n",
       "      <th>49995</th>\n",
       "      <td>one of my top comments is about my gf teasing ...</td>\n",
       "      <td>humor</td>\n",
       "      <td>0.282500</td>\n",
       "      <td>0.540000</td>\n",
       "      <td>Subjective</td>\n",
       "      <td>Positive</td>\n",
       "    </tr>\n",
       "    <tr>\n",
       "      <th>49996</th>\n",
       "      <td>it s not a big deal she s actually pretty luck...</td>\n",
       "      <td>humor</td>\n",
       "      <td>0.185556</td>\n",
       "      <td>0.544444</td>\n",
       "      <td>Subjective</td>\n",
       "      <td>Positive</td>\n",
       "    </tr>\n",
       "    <tr>\n",
       "      <th>49997</th>\n",
       "      <td>he did you a favor the chocolate part is the b...</td>\n",
       "      <td>humor</td>\n",
       "      <td>0.500000</td>\n",
       "      <td>0.150000</td>\n",
       "      <td>Objective</td>\n",
       "      <td>Positive</td>\n",
       "    </tr>\n",
       "    <tr>\n",
       "      <th>49998</th>\n",
       "      <td>does nt always work  but a lot of the time i h...</td>\n",
       "      <td>humor</td>\n",
       "      <td>0.633333</td>\n",
       "      <td>0.579167</td>\n",
       "      <td>Subjective</td>\n",
       "      <td>Positive</td>\n",
       "    </tr>\n",
       "    <tr>\n",
       "      <th>49999</th>\n",
       "      <td>taking a dick pic with front facing camera  it...</td>\n",
       "      <td>humor</td>\n",
       "      <td>0.333333</td>\n",
       "      <td>0.666667</td>\n",
       "      <td>Subjective</td>\n",
       "      <td>Positive</td>\n",
       "    </tr>\n",
       "  </tbody>\n",
       "</table>\n",
       "<p>50000 rows × 6 columns</p>\n",
       "</div>"
      ],
      "text/plain": [
       "                                                    text subreddit  Polarity  \\\n",
       "0      that sounds like the answer of a man who does ...     humor -0.005556   \n",
       "1      i always wonder what people get out of reposti...     humor -0.029167   \n",
       "2      fuck that  downvote them for stalking you in t...     humor -0.200000   \n",
       "3      seeing as how much this has been around  and a...     humor  0.350000   \n",
       "4      it took me a while to even get my legally requ...     humor -0.029167   \n",
       "...                                                  ...       ...       ...   \n",
       "49995  one of my top comments is about my gf teasing ...     humor  0.282500   \n",
       "49996  it s not a big deal she s actually pretty luck...     humor  0.185556   \n",
       "49997  he did you a favor the chocolate part is the b...     humor  0.500000   \n",
       "49998  does nt always work  but a lot of the time i h...     humor  0.633333   \n",
       "49999  taking a dick pic with front facing camera  it...     humor  0.333333   \n",
       "\n",
       "       subjectivity    Subj/Obj TypeOfPolarity  \n",
       "0          0.138889   Objective       Negative  \n",
       "1          0.800000  Subjective       Negative  \n",
       "2          0.362500   Objective       Negative  \n",
       "3          0.350000   Objective       Positive  \n",
       "4          0.304167   Objective       Negative  \n",
       "...             ...         ...            ...  \n",
       "49995      0.540000  Subjective       Positive  \n",
       "49996      0.544444  Subjective       Positive  \n",
       "49997      0.150000   Objective       Positive  \n",
       "49998      0.579167  Subjective       Positive  \n",
       "49999      0.666667  Subjective       Positive  \n",
       "\n",
       "[50000 rows x 6 columns]"
      ]
     },
     "execution_count": 72,
     "metadata": {},
     "output_type": "execute_result"
    }
   ],
   "source": [
    "humor_df"
   ]
  },
  {
   "cell_type": "code",
   "execution_count": 73,
   "metadata": {},
   "outputs": [
    {
     "data": {
      "text/html": [
       "<div>\n",
       "<style scoped>\n",
       "    .dataframe tbody tr th:only-of-type {\n",
       "        vertical-align: middle;\n",
       "    }\n",
       "\n",
       "    .dataframe tbody tr th {\n",
       "        vertical-align: top;\n",
       "    }\n",
       "\n",
       "    .dataframe thead th {\n",
       "        text-align: right;\n",
       "    }\n",
       "</style>\n",
       "<table border=\"1\" class=\"dataframe\">\n",
       "  <thead>\n",
       "    <tr style=\"text-align: right;\">\n",
       "      <th></th>\n",
       "      <th>text</th>\n",
       "      <th>subreddit</th>\n",
       "      <th>Polarity</th>\n",
       "      <th>subjectivity</th>\n",
       "      <th>Subj/Obj</th>\n",
       "      <th>TypeOfPolarity</th>\n",
       "    </tr>\n",
       "  </thead>\n",
       "  <tbody>\n",
       "    <tr>\n",
       "      <th>50000</th>\n",
       "      <td>just a hunch  people that write about this stu...</td>\n",
       "      <td>news</td>\n",
       "      <td>0.062500</td>\n",
       "      <td>0.458333</td>\n",
       "      <td>Objective</td>\n",
       "      <td>Positive</td>\n",
       "    </tr>\n",
       "    <tr>\n",
       "      <th>50001</th>\n",
       "      <td>before you all get too deep in to your selfrig...</td>\n",
       "      <td>news</td>\n",
       "      <td>0.195089</td>\n",
       "      <td>0.466964</td>\n",
       "      <td>Objective</td>\n",
       "      <td>Positive</td>\n",
       "    </tr>\n",
       "    <tr>\n",
       "      <th>50002</th>\n",
       "      <td>no one is saying he does nt have an impressive...</td>\n",
       "      <td>news</td>\n",
       "      <td>0.253968</td>\n",
       "      <td>0.467857</td>\n",
       "      <td>Objective</td>\n",
       "      <td>Positive</td>\n",
       "    </tr>\n",
       "    <tr>\n",
       "      <th>50003</th>\n",
       "      <td>there are so many things wrong with this i do ...</td>\n",
       "      <td>news</td>\n",
       "      <td>0.080000</td>\n",
       "      <td>0.620000</td>\n",
       "      <td>Subjective</td>\n",
       "      <td>Positive</td>\n",
       "    </tr>\n",
       "    <tr>\n",
       "      <th>50004</th>\n",
       "      <td>hillary comes across on tv as a complete liar ...</td>\n",
       "      <td>news</td>\n",
       "      <td>0.016667</td>\n",
       "      <td>0.409524</td>\n",
       "      <td>Objective</td>\n",
       "      <td>Positive</td>\n",
       "    </tr>\n",
       "    <tr>\n",
       "      <th>...</th>\n",
       "      <td>...</td>\n",
       "      <td>...</td>\n",
       "      <td>...</td>\n",
       "      <td>...</td>\n",
       "      <td>...</td>\n",
       "      <td>...</td>\n",
       "    </tr>\n",
       "    <tr>\n",
       "      <th>99995</th>\n",
       "      <td>probably because it should nt be anyone else s...</td>\n",
       "      <td>news</td>\n",
       "      <td>-0.183333</td>\n",
       "      <td>0.383333</td>\n",
       "      <td>Objective</td>\n",
       "      <td>Negative</td>\n",
       "    </tr>\n",
       "    <tr>\n",
       "      <th>99996</th>\n",
       "      <td>of course i do the sole responsibility of the ...</td>\n",
       "      <td>news</td>\n",
       "      <td>0.000000</td>\n",
       "      <td>0.250000</td>\n",
       "      <td>Objective</td>\n",
       "      <td>Neutral</td>\n",
       "    </tr>\n",
       "    <tr>\n",
       "      <th>99997</th>\n",
       "      <td>its also just unwise if they block his pick lo...</td>\n",
       "      <td>news</td>\n",
       "      <td>-0.190000</td>\n",
       "      <td>0.680000</td>\n",
       "      <td>Subjective</td>\n",
       "      <td>Negative</td>\n",
       "    </tr>\n",
       "    <tr>\n",
       "      <th>99998</th>\n",
       "      <td>another  holographic storage  for us to hear a...</td>\n",
       "      <td>news</td>\n",
       "      <td>0.200000</td>\n",
       "      <td>0.200000</td>\n",
       "      <td>Objective</td>\n",
       "      <td>Positive</td>\n",
       "    </tr>\n",
       "    <tr>\n",
       "      <th>99999</th>\n",
       "      <td>he is correct  in that the fact the tea party ...</td>\n",
       "      <td>news</td>\n",
       "      <td>-0.350000</td>\n",
       "      <td>0.333333</td>\n",
       "      <td>Objective</td>\n",
       "      <td>Negative</td>\n",
       "    </tr>\n",
       "  </tbody>\n",
       "</table>\n",
       "<p>50000 rows × 6 columns</p>\n",
       "</div>"
      ],
      "text/plain": [
       "                                                    text subreddit  Polarity  \\\n",
       "50000  just a hunch  people that write about this stu...      news  0.062500   \n",
       "50001  before you all get too deep in to your selfrig...      news  0.195089   \n",
       "50002  no one is saying he does nt have an impressive...      news  0.253968   \n",
       "50003  there are so many things wrong with this i do ...      news  0.080000   \n",
       "50004  hillary comes across on tv as a complete liar ...      news  0.016667   \n",
       "...                                                  ...       ...       ...   \n",
       "99995  probably because it should nt be anyone else s...      news -0.183333   \n",
       "99996  of course i do the sole responsibility of the ...      news  0.000000   \n",
       "99997  its also just unwise if they block his pick lo...      news -0.190000   \n",
       "99998  another  holographic storage  for us to hear a...      news  0.200000   \n",
       "99999  he is correct  in that the fact the tea party ...      news -0.350000   \n",
       "\n",
       "       subjectivity    Subj/Obj TypeOfPolarity  \n",
       "50000      0.458333   Objective       Positive  \n",
       "50001      0.466964   Objective       Positive  \n",
       "50002      0.467857   Objective       Positive  \n",
       "50003      0.620000  Subjective       Positive  \n",
       "50004      0.409524   Objective       Positive  \n",
       "...             ...         ...            ...  \n",
       "99995      0.383333   Objective       Negative  \n",
       "99996      0.250000   Objective        Neutral  \n",
       "99997      0.680000  Subjective       Negative  \n",
       "99998      0.200000   Objective       Positive  \n",
       "99999      0.333333   Objective       Negative  \n",
       "\n",
       "[50000 rows x 6 columns]"
      ]
     },
     "execution_count": 73,
     "metadata": {},
     "output_type": "execute_result"
    }
   ],
   "source": [
    "news_df"
   ]
  },
  {
   "cell_type": "code",
   "execution_count": 74,
   "metadata": {},
   "outputs": [
    {
     "name": "stdout",
     "output_type": "stream",
     "text": [
      "     Polarity  NumberOfComments\n",
      "0    0.000000              6137\n",
      "1    0.250000              1246\n",
      "2    0.500000               980\n",
      "3    0.200000               883\n",
      "4    0.300000               762\n",
      "..        ...               ...\n",
      "705 -0.109722                 9\n",
      "706 -0.275000                 9\n",
      "707 -0.017708                 7\n",
      "708 -0.158475                 7\n",
      "709 -0.258333                 1\n",
      "\n",
      "[710 rows x 2 columns]\n"
     ]
    }
   ],
   "source": [
    "humor_PCount=humor_df.value_counts(\"Polarity\").reset_index(name='NumberOfComments')\n",
    "print(humor_PCount)"
   ]
  },
  {
   "cell_type": "code",
   "execution_count": 75,
   "metadata": {},
   "outputs": [
    {
     "name": "stdout",
     "output_type": "stream",
     "text": [
      "     Polarity  NumberOfComments\n",
      "0    0.000000              5703\n",
      "1    0.500000              1071\n",
      "2    0.250000              1016\n",
      "3    0.200000               955\n",
      "4    0.100000               678\n",
      "..        ...               ...\n",
      "986  0.086667                 3\n",
      "987  0.014286                 3\n",
      "988  0.208889                 2\n",
      "989  0.004167                 2\n",
      "990 -0.030000                 1\n",
      "\n",
      "[991 rows x 2 columns]\n"
     ]
    }
   ],
   "source": [
    "news_PCount=news_df.value_counts(\"Polarity\").reset_index(name='NumberOfComments')\n",
    "print(news_PCount)"
   ]
  },
  {
   "cell_type": "code",
   "execution_count": 76,
   "metadata": {},
   "outputs": [
    {
     "name": "stdout",
     "output_type": "stream",
     "text": [
      "     subjectivity  NumberOfComments\n",
      "0        0.000000              4014\n",
      "1        0.500000              1963\n",
      "2        1.000000              1043\n",
      "3        0.600000               996\n",
      "4        0.400000               927\n",
      "..            ...               ...\n",
      "654      0.363889                 9\n",
      "655      0.339286                 8\n",
      "656      0.586458                 7\n",
      "657      0.342235                 7\n",
      "658      0.151515                 4\n",
      "\n",
      "[659 rows x 2 columns]\n"
     ]
    }
   ],
   "source": [
    "humor_SCount=humor_df.value_counts(\"subjectivity\").reset_index(name='NumberOfComments')\n",
    "print(humor_SCount)"
   ]
  },
  {
   "cell_type": "code",
   "execution_count": 77,
   "metadata": {},
   "outputs": [
    {
     "name": "stdout",
     "output_type": "stream",
     "text": [
      "     subjectivity  NumberOfComments\n",
      "0        0.000000              3257\n",
      "1        0.500000              2237\n",
      "2        1.000000              1126\n",
      "3        0.400000               937\n",
      "4        0.600000               825\n",
      "..            ...               ...\n",
      "904      0.493750                 4\n",
      "905      0.317857                 4\n",
      "906      0.343452                 3\n",
      "907      0.385000                 3\n",
      "908      0.537778                 2\n",
      "\n",
      "[909 rows x 2 columns]\n"
     ]
    }
   ],
   "source": [
    "news_SCount=news_df.value_counts(\"subjectivity\").reset_index(name='NumberOfComments')\n",
    "print(news_SCount)"
   ]
  },
  {
   "cell_type": "code",
   "execution_count": 78,
   "metadata": {},
   "outputs": [
    {
     "name": "stdout",
     "output_type": "stream",
     "text": [
      "  TypeOfPolarity  NumberOfComments\n",
      "0       Positive             26562\n",
      "1       Negative             17301\n",
      "2        Neutral              6137\n"
     ]
    }
   ],
   "source": [
    "humor_PTypeCount=humor_df.value_counts(\"TypeOfPolarity\").reset_index(name='NumberOfComments')\n",
    "print(humor_PTypeCount)"
   ]
  },
  {
   "cell_type": "code",
   "execution_count": 79,
   "metadata": {},
   "outputs": [
    {
     "name": "stdout",
     "output_type": "stream",
     "text": [
      "  TypeOfPolarity  NumberOfComments\n",
      "0       Positive             28770\n",
      "1       Negative             15527\n",
      "2        Neutral              5703\n"
     ]
    }
   ],
   "source": [
    "news_PTypeCount=news_df.value_counts(\"TypeOfPolarity\").reset_index(name='NumberOfComments')\n",
    "print(news_PTypeCount)"
   ]
  },
  {
   "cell_type": "code",
   "execution_count": 80,
   "metadata": {},
   "outputs": [
    {
     "name": "stdout",
     "output_type": "stream",
     "text": [
      "     Subj/Obj  NumberOfComments\n",
      "0  Subjective             25233\n",
      "1   Objective             24767\n"
     ]
    }
   ],
   "source": [
    "humor_STypeCount=humor_df.value_counts(\"Subj/Obj\").reset_index(name='NumberOfComments')\n",
    "print(humor_STypeCount)"
   ]
  },
  {
   "cell_type": "code",
   "execution_count": 81,
   "metadata": {},
   "outputs": [
    {
     "name": "stdout",
     "output_type": "stream",
     "text": [
      "     Subj/Obj  NumberOfComments\n",
      "0   Objective             25854\n",
      "1  Subjective             24146\n"
     ]
    }
   ],
   "source": [
    "news_STypeCount=news_df.value_counts(\"Subj/Obj\").reset_index(name='NumberOfComments')\n",
    "print(news_STypeCount)"
   ]
  },
  {
   "cell_type": "code",
   "execution_count": 82,
   "metadata": {},
   "outputs": [
    {
     "data": {
      "text/plain": [
       "Polarity            float64\n",
       "NumberOfComments      int64\n",
       "dtype: object"
      ]
     },
     "execution_count": 82,
     "metadata": {},
     "output_type": "execute_result"
    }
   ],
   "source": [
    "humor_PCount.dtypes"
   ]
  },
  {
   "cell_type": "code",
   "execution_count": 83,
   "metadata": {},
   "outputs": [
    {
     "data": {
      "text/html": [
       "<div>\n",
       "<style scoped>\n",
       "    .dataframe tbody tr th:only-of-type {\n",
       "        vertical-align: middle;\n",
       "    }\n",
       "\n",
       "    .dataframe tbody tr th {\n",
       "        vertical-align: top;\n",
       "    }\n",
       "\n",
       "    .dataframe thead th {\n",
       "        text-align: right;\n",
       "    }\n",
       "</style>\n",
       "<table border=\"1\" class=\"dataframe\">\n",
       "  <thead>\n",
       "    <tr style=\"text-align: right;\">\n",
       "      <th></th>\n",
       "      <th>Polarity</th>\n",
       "      <th>NumberOfComments</th>\n",
       "    </tr>\n",
       "  </thead>\n",
       "  <tbody>\n",
       "    <tr>\n",
       "      <th>0</th>\n",
       "      <td>0.000000</td>\n",
       "      <td>6137</td>\n",
       "    </tr>\n",
       "    <tr>\n",
       "      <th>1</th>\n",
       "      <td>0.250000</td>\n",
       "      <td>1246</td>\n",
       "    </tr>\n",
       "    <tr>\n",
       "      <th>2</th>\n",
       "      <td>0.500000</td>\n",
       "      <td>980</td>\n",
       "    </tr>\n",
       "    <tr>\n",
       "      <th>3</th>\n",
       "      <td>0.200000</td>\n",
       "      <td>883</td>\n",
       "    </tr>\n",
       "    <tr>\n",
       "      <th>4</th>\n",
       "      <td>0.300000</td>\n",
       "      <td>762</td>\n",
       "    </tr>\n",
       "    <tr>\n",
       "      <th>...</th>\n",
       "      <td>...</td>\n",
       "      <td>...</td>\n",
       "    </tr>\n",
       "    <tr>\n",
       "      <th>705</th>\n",
       "      <td>-0.109722</td>\n",
       "      <td>9</td>\n",
       "    </tr>\n",
       "    <tr>\n",
       "      <th>706</th>\n",
       "      <td>-0.275000</td>\n",
       "      <td>9</td>\n",
       "    </tr>\n",
       "    <tr>\n",
       "      <th>707</th>\n",
       "      <td>-0.017708</td>\n",
       "      <td>7</td>\n",
       "    </tr>\n",
       "    <tr>\n",
       "      <th>708</th>\n",
       "      <td>-0.158475</td>\n",
       "      <td>7</td>\n",
       "    </tr>\n",
       "    <tr>\n",
       "      <th>709</th>\n",
       "      <td>-0.258333</td>\n",
       "      <td>1</td>\n",
       "    </tr>\n",
       "  </tbody>\n",
       "</table>\n",
       "<p>710 rows × 2 columns</p>\n",
       "</div>"
      ],
      "text/plain": [
       "     Polarity  NumberOfComments\n",
       "0    0.000000              6137\n",
       "1    0.250000              1246\n",
       "2    0.500000               980\n",
       "3    0.200000               883\n",
       "4    0.300000               762\n",
       "..        ...               ...\n",
       "705 -0.109722                 9\n",
       "706 -0.275000                 9\n",
       "707 -0.017708                 7\n",
       "708 -0.158475                 7\n",
       "709 -0.258333                 1\n",
       "\n",
       "[710 rows x 2 columns]"
      ]
     },
     "execution_count": 83,
     "metadata": {},
     "output_type": "execute_result"
    }
   ],
   "source": [
    "humor_PCount\n"
   ]
  },
  {
   "cell_type": "code",
   "execution_count": 84,
   "metadata": {},
   "outputs": [
    {
     "data": {
      "text/plain": [
       "Text(0, 0.5, 'Number Of Comments')"
      ]
     },
     "execution_count": 84,
     "metadata": {},
     "output_type": "execute_result"
    },
    {
     "data": {
      "image/png": "[encoded data removed]",
      "text/plain": [
       "<Figure size 720x360 with 1 Axes>"
      ]
     },
     "metadata": {
      "needs_background": "light"
     },
     "output_type": "display_data"
    }
   ],
   "source": [
    "PplotH1=humor_PCount.plot(x=\"Polarity\", y=\"NumberOfComments\", color='red', kind=\"bar\", xlabel=\"Polarity\",ylabel=\"Number of Comments\",figsize=(10,5),fontsize=12)\n",
    "#PplotH.set(xticklabels=[])\n",
    "PplotH1.yaxis.label.set_color('blue')\n",
    "PplotH1.xaxis.label.set_color('blue')\n",
    "PplotH1.set_xlabel(\"Polarity\", size=16)\n",
    "PplotH1.set_ylabel(\"Number Of Comments\",size=16)\n",
    "#PplotH1.show()"
   ]
  },
  {
   "cell_type": "code",
   "execution_count": 85,
   "metadata": {},
   "outputs": [
    {
     "data": {
      "text/plain": [
       "Text(0, 0.5, 'Number Of Comments')"
      ]
     },
     "execution_count": 85,
     "metadata": {},
     "output_type": "execute_result"
    },
    {
     "data": {
      "image/png": "[encoded data removed]",
      "text/plain": [
       "<Figure size 720x360 with 1 Axes>"
      ]
     },
     "metadata": {
      "needs_background": "light"
     },
     "output_type": "display_data"
    }
   ],
   "source": [
    "PplotS1=humor_SCount.plot(x=\"subjectivity\", y=\"NumberOfComments\", color='red', kind=\"bar\", xlabel=\"Subjectivity\",ylabel=\"Number of Comments\",figsize=(10,5),fontsize=12)\n",
    "PplotS1.set(xticklabels=[])\n",
    "PplotS1.yaxis.label.set_color('blue')\n",
    "PplotS1.xaxis.label.set_color('blue')\n",
    "PplotS1.set_xlabel(\"Subjectivity\", size=16)\n",
    "PplotS1.set_ylabel(\"Number Of Comments\",size=16)\n",
    "#PplotH1.show()"
   ]
  },
  {
   "cell_type": "code",
   "execution_count": 86,
   "metadata": {},
   "outputs": [
    {
     "data": {
      "image/png": "[encoded data removed]",
      "text/plain": [
       "<Figure size 720x360 with 1 Axes>"
      ]
     },
     "metadata": {
      "needs_background": "light"
     },
     "output_type": "display_data"
    }
   ],
   "source": [
    "PplotH2=humor_PCount.plot(x=\"Polarity\", y=\"NumberOfComments\", color='black', kind=\"bar\", xlabel=\"Polarity\",ylabel=\"Number of Comments\",figsize=(10,5),fontsize=16)\n",
    "PplotH2.set(xticklabels=[])\n",
    "PplotH2.yaxis.label.set_color('blue')\n",
    "PplotH2.xaxis.label.set_color('blue')\n",
    "\n",
    "PplotH2.set_xlabel(\"Polarity\", size=16)\n",
    "PplotH2.set_ylabel(\"Number Of Comments\",size=16)\n",
    "\n",
    "meanPolarity_Humor= humor_df[\"Polarity\"].mean()\n",
    "stdPolarity_Humor=humor_df[\"Polarity\"].std()\n",
    "#PplotH2.axhline(meanPolarity_Humor, color =\"red\", linestyle =\"--\") \n",
    "#PplotH2.axhline(stdPolarity_Humor, color =\"blue\", linestyle =\":\")"
   ]
  },
  {
   "cell_type": "code",
   "execution_count": 87,
   "metadata": {},
   "outputs": [
    {
     "data": {
      "image/png": "[encoded data removed]",
      "text/plain": [
       "<Figure size 720x360 with 1 Axes>"
      ]
     },
     "metadata": {
      "needs_background": "light"
     },
     "output_type": "display_data"
    }
   ],
   "source": [
    "PplotN2=news_PCount.plot(x=\"Polarity\", y=\"NumberOfComments\", color='red', kind=\"bar\", xlabel=\"Polarity\",ylabel=\"Number of Comments\",figsize=(10,5),fontsize=16, title='Polarity of News Subreddit')\n",
    "PplotN2.set(xticklabels=[])\n",
    "PplotN2.yaxis.label.set_color('blue')\n",
    "PplotN2.xaxis.label.set_color('blue')\n",
    "\n",
    "PplotN2.set_xlabel(\"Polarity\", size=16)\n",
    "PplotN2.set_ylabel(\"Number Of Comments\",size=16)\n",
    "\n",
    "meanPolarity_News= news_df[\"Polarity\"].mean()\n",
    "stdPolarity_News=news_df[\"Polarity\"].std()\n",
    "#PplotH2.axhline(meanPolarity_Humor, color =\"red\", linestyle =\"--\") \n",
    "#PplotH2.axhline(stdPolarity_Humor, color =\"blue\", linestyle =\":\")"
   ]
  },
  {
   "cell_type": "code",
   "execution_count": 88,
   "metadata": {},
   "outputs": [
    {
     "data": {
      "text/plain": [
       "Text(0, 0.5, 'Number Of Comments')"
      ]
     },
     "execution_count": 88,
     "metadata": {},
     "output_type": "execute_result"
    },
    {
     "data": {
      "image/png": "[encoded data removed]",
      "text/plain": [
       "<Figure size 720x360 with 1 Axes>"
      ]
     },
     "metadata": {
      "needs_background": "light"
     },
     "output_type": "display_data"
    }
   ],
   "source": [
    "PTypeplotH=humor_PTypeCount.plot(x=\"TypeOfPolarity\", y=\"NumberOfComments\", color='black', kind=\"bar\", xlabel=\"Polarity\",ylabel=\"Number of Comments\",figsize=(10,5),fontsize=16)\n",
    "#PplotH.set(xticklabels=[])\n",
    "PTypeplotH.yaxis.label.set_color('blue')\n",
    "PTypeplotH.xaxis.label.set_color('blue')\n",
    "\n",
    "PTypeplotH.set_xlabel(\"Polarity\", size=16)\n",
    "PTypeplotH.set_ylabel(\"Number Of Comments\",size=16)\n",
    "\n",
    "# PTypeplotH.axhline(meanPolarity_Humor, color =\"red\", linestyle =\"--\") \n",
    "# PTypeplotH.axhline(stdPolarity_Humor, color =\"blue\", linestyle =\":\")"
   ]
  },
  {
   "cell_type": "code",
   "execution_count": 89,
   "metadata": {},
   "outputs": [],
   "source": [
    "from matplotlib.patches import Patch\n",
    "colour_list = {\"Positive\": 'g',\"Neutral\":'yellow',\"Negative\":\"red\"}"
   ]
  },
  {
   "cell_type": "code",
   "execution_count": 90,
   "metadata": {},
   "outputs": [
    {
     "data": {
      "text/plain": [
       "Text(0, 0.5, 'Number Of Comments')"
      ]
     },
     "execution_count": 90,
     "metadata": {},
     "output_type": "execute_result"
    },
    {
     "data": {
      "image/png": "[encoded data removed]",
      "text/plain": [
       "<Figure size 720x576 with 1 Axes>"
      ]
     },
     "metadata": {
      "needs_background": "light"
     },
     "output_type": "display_data"
    }
   ],
   "source": [
    "PTypePlotH2=humor_PTypeCount.plot(x=\"TypeOfPolarity\", y=\"NumberOfComments\", color=humor_PTypeCount[\"TypeOfPolarity\"].replace(colour_list), kind=\"bar\", xlabel=\"Polarity\",ylabel=\"Number of Comments\",fontsize=16,figsize=(10,8))\n",
    "PTypePlotH2.legend(\n",
    "    [\n",
    "        Patch(facecolor='g'),\n",
    "        Patch(facecolor='y'),\n",
    "        Patch(facecolor='r')\n",
    "    ], [\"Positive\", \"Neutral\",\"Negative\"]\n",
    ")\n",
    "\n",
    "PTypePlotH2.yaxis.label.set_color('blue')\n",
    "PTypePlotH2.xaxis.label.set_color('blue')\n",
    "\n",
    "PTypePlotH2.set_xlabel(\"Polarity\", size=16)\n",
    "PTypePlotH2.set_ylabel(\"Number Of Comments\",size=16)"
   ]
  },
  {
   "cell_type": "code",
   "execution_count": 91,
   "metadata": {},
   "outputs": [
    {
     "data": {
      "text/plain": [
       "Text(0, 0.5, 'Number Of Comments')"
      ]
     },
     "execution_count": 91,
     "metadata": {},
     "output_type": "execute_result"
    },
    {
     "data": {
      "image/png": "[encoded data removed]",
      "text/plain": [
       "<Figure size 720x432 with 1 Axes>"
      ]
     },
     "metadata": {
      "needs_background": "light"
     },
     "output_type": "display_data"
    }
   ],
   "source": [
    "PTypePlotN2=news_PTypeCount.plot(x=\"TypeOfPolarity\", y=\"NumberOfComments\", color=news_PTypeCount[\"TypeOfPolarity\"].replace(colour_list), kind=\"bar\", xlabel=\"Polarity\",ylabel=\"Number of Comments\",fontsize=12,figsize=(10,6),title='Polarity of News Subreddit')\n",
    "PTypePlotN2.legend(\n",
    "    [\n",
    "        Patch(facecolor='g'),\n",
    "        Patch(facecolor='y'),\n",
    "        Patch(facecolor='r')\n",
    "    ], [\"Positive\", \"Neutral\",\"Negative\"]\n",
    ")\n",
    "\n",
    "PTypePlotN2.yaxis.label.set_color('blue')\n",
    "PTypePlotN2.xaxis.label.set_color('blue')\n",
    "\n",
    "PTypePlotN2.set_xlabel(\"Polarity\", size=16)\n",
    "PTypePlotN2.set_ylabel(\"Number Of Comments\",size=16)"
   ]
  },
  {
   "cell_type": "code",
   "execution_count": 92,
   "metadata": {},
   "outputs": [],
   "source": [
    "#from matplotlib.patches import Patch\n",
    "colour_listS = {\"Subjective\": 'cornflowerblue',\"Objective\":'palevioletred'}"
   ]
  },
  {
   "cell_type": "code",
   "execution_count": 93,
   "metadata": {},
   "outputs": [
    {
     "data": {
      "image/png": "[encoded data removed]",
      "text/plain": [
       "<Figure size 720x432 with 1 Axes>"
      ]
     },
     "metadata": {
      "needs_background": "light"
     },
     "output_type": "display_data"
    }
   ],
   "source": [
    "STypePlotH2=humor_STypeCount.plot(x=\"Subj/Obj\", y=\"NumberOfComments\", color=humor_STypeCount[\"Subj/Obj\"].replace(colour_listS), kind=\"bar\", xlabel=\"Subjectivity\",ylabel=\"Number of Comments\",fontsize=12,figsize=(10,6))\n",
    "STypePlotH2.legend(\n",
    "    [\n",
    "        Patch(facecolor='cornflowerblue'),\n",
    "        Patch(facecolor='palevioletred')\n",
    "    ], [\"Subjective\", \"Objective\"]\n",
    ")\n",
    "\n",
    "STypePlotH2.yaxis.label.set_color('blue')\n",
    "STypePlotH2.xaxis.label.set_color('blue')\n",
    "\n",
    "STypePlotH2.set_xlabel(\"Subjectivity\", size=14)\n",
    "STypePlotH2.set_ylabel(\"Number Of Comments\",size=14)\n",
    "\n",
    "meanSubjectivity_Humor= humor_df[\"subjectivity\"].mean()\n",
    "stdSubjectivity_Humor=humor_df[\"subjectivity\"].std()"
   ]
  },
  {
   "cell_type": "code",
   "execution_count": 94,
   "metadata": {},
   "outputs": [
    {
     "data": {
      "image/png": "[encoded data removed]",
      "text/plain": [
       "<Figure size 720x432 with 1 Axes>"
      ]
     },
     "metadata": {
      "needs_background": "light"
     },
     "output_type": "display_data"
    }
   ],
   "source": [
    "STypePlotN2=news_STypeCount.plot(x=\"Subj/Obj\", y=\"NumberOfComments\", color=news_STypeCount[\"Subj/Obj\"].replace(colour_listS), kind=\"bar\", xlabel=\"Subjectivity\",ylabel=\"Number of Comments\",fontsize=12,figsize=(10,6),title='Subjectivity of News Subreddit')\n",
    "STypePlotN2.legend(\n",
    "    [\n",
    "        Patch(facecolor='cornflowerblue'),\n",
    "        Patch(facecolor='palevioletred')\n",
    "    ], [\"Subjective\", \"Objective\"]\n",
    ")\n",
    "\n",
    "STypePlotN2.yaxis.label.set_color('blue')\n",
    "STypePlotN2.xaxis.label.set_color('blue')\n",
    "\n",
    "STypePlotN2.set_xlabel(\"Subjectivity\", size=14)\n",
    "STypePlotN2.set_ylabel(\"Number Of Comments\",size=14)\n",
    "\n",
    "meanSubjectivity_News= news_df[\"subjectivity\"].mean()\n",
    "stdSubjectivity_News=news_df[\"subjectivity\"].std()"
   ]
  },
  {
   "cell_type": "code",
   "execution_count": 95,
   "metadata": {},
   "outputs": [
    {
     "data": {
      "text/html": [
       "<div>\n",
       "<style scoped>\n",
       "    .dataframe tbody tr th:only-of-type {\n",
       "        vertical-align: middle;\n",
       "    }\n",
       "\n",
       "    .dataframe tbody tr th {\n",
       "        vertical-align: top;\n",
       "    }\n",
       "\n",
       "    .dataframe thead th {\n",
       "        text-align: right;\n",
       "    }\n",
       "</style>\n",
       "<table border=\"1\" class=\"dataframe\">\n",
       "  <thead>\n",
       "    <tr style=\"text-align: right;\">\n",
       "      <th></th>\n",
       "      <th>Mean</th>\n",
       "      <th>StandardDeviation</th>\n",
       "    </tr>\n",
       "  </thead>\n",
       "  <tbody>\n",
       "    <tr>\n",
       "      <th>Polarity</th>\n",
       "      <td>0.052316</td>\n",
       "      <td>0.247794</td>\n",
       "    </tr>\n",
       "    <tr>\n",
       "      <th>Subjectivity</th>\n",
       "      <td>0.470718</td>\n",
       "      <td>0.242443</td>\n",
       "    </tr>\n",
       "  </tbody>\n",
       "</table>\n",
       "</div>"
      ],
      "text/plain": [
       "                  Mean  StandardDeviation\n",
       "Polarity      0.052316           0.247794\n",
       "Subjectivity  0.470718           0.242443"
      ]
     },
     "execution_count": 95,
     "metadata": {},
     "output_type": "execute_result"
    }
   ],
   "source": [
    "dataH = {'Mean':[meanPolarity_Humor,meanSubjectivity_Humor], \n",
    "        'StandardDeviation':[stdPolarity_Humor,stdSubjectivity_Humor]} \n",
    "dataHplot2 = pd.DataFrame(dataH, index =['Polarity', \n",
    "                                'Subjectivity']) \n",
    "dataHplot2"
   ]
  },
  {
   "cell_type": "code",
   "execution_count": 96,
   "metadata": {},
   "outputs": [
    {
     "data": {
      "text/html": [
       "<div>\n",
       "<style scoped>\n",
       "    .dataframe tbody tr th:only-of-type {\n",
       "        vertical-align: middle;\n",
       "    }\n",
       "\n",
       "    .dataframe tbody tr th {\n",
       "        vertical-align: top;\n",
       "    }\n",
       "\n",
       "    .dataframe thead th {\n",
       "        text-align: right;\n",
       "    }\n",
       "</style>\n",
       "<table border=\"1\" class=\"dataframe\">\n",
       "  <thead>\n",
       "    <tr style=\"text-align: right;\">\n",
       "      <th></th>\n",
       "      <th>Mean</th>\n",
       "      <th>StandardDeviation</th>\n",
       "    </tr>\n",
       "  </thead>\n",
       "  <tbody>\n",
       "    <tr>\n",
       "      <th>Polarity</th>\n",
       "      <td>0.063913</td>\n",
       "      <td>0.230325</td>\n",
       "    </tr>\n",
       "    <tr>\n",
       "      <th>Subjectivity</th>\n",
       "      <td>0.469159</td>\n",
       "      <td>0.231927</td>\n",
       "    </tr>\n",
       "  </tbody>\n",
       "</table>\n",
       "</div>"
      ],
      "text/plain": [
       "                  Mean  StandardDeviation\n",
       "Polarity      0.063913           0.230325\n",
       "Subjectivity  0.469159           0.231927"
      ]
     },
     "execution_count": 96,
     "metadata": {},
     "output_type": "execute_result"
    }
   ],
   "source": [
    "dataN = {'Mean':[meanPolarity_News,meanSubjectivity_News], \n",
    "        'StandardDeviation':[stdPolarity_News,stdSubjectivity_News]} \n",
    "dataNplot2 = pd.DataFrame(dataN, index =['Polarity', \n",
    "                                'Subjectivity']) \n",
    "dataNplot2"
   ]
  },
  {
   "cell_type": "code",
   "execution_count": 97,
   "metadata": {},
   "outputs": [
    {
     "data": {
      "text/plain": [
       "<AxesSubplot:title={'center':'Humor Subreddit Polarity and Subjectivity'}, ylabel='Number of Comments'>"
      ]
     },
     "execution_count": 97,
     "metadata": {},
     "output_type": "execute_result"
    },
    {
     "data": {
      "image/png": "[encoded data removed]",
      "text/plain": [
       "<Figure size 432x288 with 1 Axes>"
      ]
     },
     "metadata": {
      "needs_background": "light"
     },
     "output_type": "display_data"
    }
   ],
   "source": [
    "dataHplot2.plot(kind = \"bar\", y = \"Mean\", legend = False, \n",
    "            title = \"Humor Subreddit Polarity and Subjectivity\", yerr = \"StandardDeviation\", ylabel='Number of Comments')"
   ]
  },
  {
   "cell_type": "code",
   "execution_count": 98,
   "metadata": {},
   "outputs": [
    {
     "data": {
      "text/plain": [
       "<AxesSubplot:title={'center':'News Subreddit Polarity and Subjectivity'}, ylabel='Number of Comments'>"
      ]
     },
     "execution_count": 98,
     "metadata": {},
     "output_type": "execute_result"
    },
    {
     "data": {
      "image/png": "[encoded data removed]",
      "text/plain": [
       "<Figure size 432x288 with 1 Axes>"
      ]
     },
     "metadata": {
      "needs_background": "light"
     },
     "output_type": "display_data"
    }
   ],
   "source": [
    "dataNplot2.plot(kind = \"bar\", y = \"Mean\", legend = False, \n",
    "            title = \"News Subreddit Polarity and Subjectivity\", yerr = \"StandardDeviation\", ylabel='Number of Comments')"
   ]
  },
  {
   "cell_type": "code",
   "execution_count": 99,
   "metadata": {},
   "outputs": [],
   "source": [
    "import nltk\n",
    "#import json\n",
    "#import glob\n",
    "from pprint import pprint\n",
    "from collections import Counter\n",
    "import string\n",
    "from nltk.util import ngrams\n"
   ]
  },
  {
   "cell_type": "code",
   "execution_count": 100,
   "metadata": {},
   "outputs": [],
   "source": [
    "humor_ngram=humor_df\n",
    "news_ngram=news_df"
   ]
  },
  {
   "cell_type": "code",
   "execution_count": 101,
   "metadata": {},
   "outputs": [
    {
     "data": {
      "text/plain": [
       "Index(['text', 'subreddit', 'Polarity', 'subjectivity', 'Subj/Obj',\n",
       "       'TypeOfPolarity'],\n",
       "      dtype='object')"
      ]
     },
     "execution_count": 101,
     "metadata": {},
     "output_type": "execute_result"
    }
   ],
   "source": [
    "humor_ngram.columns"
   ]
  },
  {
   "cell_type": "code",
   "execution_count": 102,
   "metadata": {},
   "outputs": [],
   "source": [
    "humor_content = [i for i in humor_ngram[\"text\"]]\n",
    "#humor_content"
   ]
  },
  {
   "cell_type": "code",
   "execution_count": 135,
   "metadata": {},
   "outputs": [],
   "source": [
    "news_content = [i for i in news_ngram[\"text\"]]\n",
    "#humor_content"
   ]
  },
  {
   "cell_type": "code",
   "execution_count": 103,
   "metadata": {},
   "outputs": [],
   "source": [
    "wordtok = []\n",
    "#wordcountperpost=[]\n",
    "for i in humor_content:\n",
    "    #print (len(i))\n",
    "    words=str(i).split()\n",
    "    #print(words)\n",
    "    #break\n",
    "    #wordcount=0;\n",
    "    for j in words:\n",
    "        #print(len(j))\n",
    "#         if j[0].isalpha():\n",
    "#             #print(j)\n",
    "#             wordcount+=1\n",
    "        wordtok += nltk.tokenize.word_tokenize(j)\n",
    "    #wordcountperpost.append(wordcount)"
   ]
  },
  {
   "cell_type": "code",
   "execution_count": 104,
   "metadata": {},
   "outputs": [
    {
     "data": {
      "text/plain": [
       "[('like', 9043),\n",
       " ('one', 7262),\n",
       " ('people', 6853),\n",
       " ('would', 6808),\n",
       " ('get', 5897),\n",
       " ('time', 4899),\n",
       " ('know', 4310),\n",
       " ('guy', 3513),\n",
       " ('really', 3427),\n",
       " ('got', 3239)]"
      ]
     },
     "execution_count": 104,
     "metadata": {},
     "output_type": "execute_result"
    }
   ],
   "source": [
    "wordtok = [i.lower() for i in wordtok]\n",
    "#print(tokens)\n",
    "obj=str.maketrans('', '',string.punctuation)\n",
    "wordtok = [i.translate(obj) for i in wordtok]\n",
    "stop_words = set(nltk.corpus.stopwords.words(\"english\"))\n",
    "wordtok = [i for i in wordtok if i not in stop_words]\n",
    "wordtok = [i for i in wordtok if len(i)>2]\n",
    "c1 = Counter(wordtok)\n",
    "c1.most_common(10)"
   ]
  },
  {
   "cell_type": "code",
   "execution_count": 136,
   "metadata": {},
   "outputs": [],
   "source": [
    "wordtoknews = []\n",
    "#wordcountperpost=[]\n",
    "for i in news_content:\n",
    "    #print (len(i))\n",
    "    wordsnews=str(i).split()\n",
    "    #print(words)\n",
    "    #break\n",
    "    #wordcount=0;\n",
    "    for j in wordsnews:\n",
    "        #print(len(j))\n",
    "#         if j[0].isalpha():\n",
    "#             #print(j)\n",
    "#             wordcount+=1\n",
    "        wordtoknews += nltk.tokenize.word_tokenize(j)\n",
    "    #wordcountperpost.append(wordcount)"
   ]
  },
  {
   "cell_type": "code",
   "execution_count": 160,
   "metadata": {},
   "outputs": [
    {
     "data": {
      "text/plain": [
       "[('people', 9655),\n",
       " ('would', 7918),\n",
       " ('like', 7900),\n",
       " ('get', 5541),\n",
       " ('one', 5526),\n",
       " ('think', 4071),\n",
       " ('even', 3826),\n",
       " ('really', 3538),\n",
       " ('know', 3523),\n",
       " ('time', 3418)]"
      ]
     },
     "execution_count": 160,
     "metadata": {},
     "output_type": "execute_result"
    }
   ],
   "source": [
    "wordtoknews = [i.lower() for i in wordtoknews]\n",
    "#print(tokens)\n",
    "objnews=str.maketrans('', '',string.punctuation)\n",
    "wordtoknews = [i.translate(objnews) for i in wordtoknews]\n",
    "stop_words = nltk.corpus.stopwords.words(\"english\")\n",
    "stop_words.append('https')\n",
    "stop_words.append('wwwyoutubecomwatch')\n",
    "wordtoknews = [i for i in wordtoknews if i not in stop_words]\n",
    "wordtoknews = [i for i in wordtoknews if len(i)>2]\n",
    "c1n = Counter(wordtoknews)\n",
    "c1n.most_common(10)"
   ]
  },
  {
   "cell_type": "code",
   "execution_count": 105,
   "metadata": {},
   "outputs": [],
   "source": [
    "data=[]\n",
    "for i in range(0,10):\n",
    "    data.append(list(c1.most_common(10)[i]))"
   ]
  },
  {
   "cell_type": "code",
   "execution_count": 161,
   "metadata": {},
   "outputs": [],
   "source": [
    "datanews=[]\n",
    "for i in range(0,10):\n",
    "    datanews.append(list(c1n.most_common(10)[i]))"
   ]
  },
  {
   "cell_type": "code",
   "execution_count": 106,
   "metadata": {},
   "outputs": [
    {
     "data": {
      "text/plain": [
       "[['like', 9043],\n",
       " ['one', 7262],\n",
       " ['people', 6853],\n",
       " ['would', 6808],\n",
       " ['get', 5897],\n",
       " ['time', 4899],\n",
       " ['know', 4310],\n",
       " ['guy', 3513],\n",
       " ['really', 3427],\n",
       " ['got', 3239]]"
      ]
     },
     "execution_count": 106,
     "metadata": {},
     "output_type": "execute_result"
    }
   ],
   "source": [
    "data"
   ]
  },
  {
   "cell_type": "code",
   "execution_count": 162,
   "metadata": {},
   "outputs": [
    {
     "data": {
      "text/plain": [
       "[['people', 9655],\n",
       " ['would', 7918],\n",
       " ['like', 7900],\n",
       " ['get', 5541],\n",
       " ['one', 5526],\n",
       " ['think', 4071],\n",
       " ['even', 3826],\n",
       " ['really', 3538],\n",
       " ['know', 3523],\n",
       " ['time', 3418]]"
      ]
     },
     "execution_count": 162,
     "metadata": {},
     "output_type": "execute_result"
    }
   ],
   "source": [
    "datanews"
   ]
  },
  {
   "cell_type": "code",
   "execution_count": 107,
   "metadata": {},
   "outputs": [],
   "source": [
    "Humor_unigram = pd.DataFrame(data, columns = ['Unigram', 'Occurrence']) "
   ]
  },
  {
   "cell_type": "code",
   "execution_count": 163,
   "metadata": {},
   "outputs": [],
   "source": [
    "News_unigram = pd.DataFrame(datanews, columns = ['Unigram', 'Occurrence']) "
   ]
  },
  {
   "cell_type": "code",
   "execution_count": 133,
   "metadata": {},
   "outputs": [
    {
     "data": {
      "text/plain": [
       "Text(0, 0.5, 'Number Of Occurences')"
      ]
     },
     "execution_count": 133,
     "metadata": {},
     "output_type": "execute_result"
    },
    {
     "data": {
      "image/png": "[encoded data removed]",
      "text/plain": [
       "<Figure size 720x576 with 1 Axes>"
      ]
     },
     "metadata": {},
     "output_type": "display_data"
    }
   ],
   "source": [
    "fplot=Humor_unigram.plot(x=\"Unigram\", y=\"Occurrence\", color='darkorchid', kind=\"bar\", xlabel=\"Word\",ylabel=\"Number of Occurrences\",figsize=(10,8),fontsize=16, title='Unigram Plot for Humor Content')\n",
    "fplot.yaxis.label.set_color('blue')\n",
    "fplot.xaxis.label.set_color('blue')\n",
    "\n",
    "fplot.set_xlabel(\"Unigram\", size=16)\n",
    "fplot.set_ylabel(\"Number Of Occurences\",size=16)"
   ]
  },
  {
   "cell_type": "code",
   "execution_count": 164,
   "metadata": {},
   "outputs": [
    {
     "data": {
      "text/plain": [
       "Text(0, 0.5, 'Number Of Occurences')"
      ]
     },
     "execution_count": 164,
     "metadata": {},
     "output_type": "execute_result"
    },
    {
     "data": {
      "image/png": "[encoded data removed]",
      "text/plain": [
       "<Figure size 720x576 with 1 Axes>"
      ]
     },
     "metadata": {},
     "output_type": "display_data"
    }
   ],
   "source": [
    "fplot2=News_unigram.plot(x=\"Unigram\", y=\"Occurrence\", color='darkorchid', kind=\"bar\", xlabel=\"Word\",ylabel=\"Number of Occurrences\",figsize=(10,8),fontsize=16, title='Unigram Plot for News Content')\n",
    "fplot2.yaxis.label.set_color('blue')\n",
    "fplot2.xaxis.label.set_color('blue')\n",
    "\n",
    "fplot2.set_xlabel(\"Unigram\", size=16)\n",
    "fplot2.set_ylabel(\"Number Of Occurences\",size=16)"
   ]
  },
  {
   "cell_type": "code",
   "execution_count": 109,
   "metadata": {},
   "outputs": [],
   "source": [
    "#wordtok"
   ]
  },
  {
   "cell_type": "code",
   "execution_count": 110,
   "metadata": {},
   "outputs": [
    {
     "data": {
      "text/plain": [
       "0             (sounds, like)\n",
       "1             (like, answer)\n",
       "2              (answer, man)\n",
       "3             (man, custody)\n",
       "4           (custody, child)\n",
       "                 ...        \n",
       "848175      (bold, strategy)\n",
       "848176    (strategy, cotton)\n",
       "848177         (cotton, let)\n",
       "848178            (let, see)\n",
       "848179           (see, pays)\n",
       "Length: 848180, dtype: object"
      ]
     },
     "execution_count": 110,
     "metadata": {},
     "output_type": "execute_result"
    }
   ],
   "source": [
    "dataBi=pd.Series(ngrams(wordtok, 2))\n",
    "dataBi"
   ]
  },
  {
   "cell_type": "code",
   "execution_count": 165,
   "metadata": {},
   "outputs": [
    {
     "data": {
      "text/plain": [
       "0                     (hunch, people)\n",
       "1                     (people, write)\n",
       "2                      (write, stuff)\n",
       "3                       (stuff, take)\n",
       "4                     (take, forever)\n",
       "                     ...             \n",
       "957392    (interests, representation)\n",
       "957393      (representation, peoples)\n",
       "957394           (peoples, interests)\n",
       "957395            (interests, edited)\n",
       "957396              (edited, clarity)\n",
       "Length: 957397, dtype: object"
      ]
     },
     "execution_count": 165,
     "metadata": {},
     "output_type": "execute_result"
    }
   ],
   "source": [
    "dataBi_News=pd.Series(ngrams(wordtoknews, 2))\n",
    "dataBi_News"
   ]
  },
  {
   "cell_type": "code",
   "execution_count": 111,
   "metadata": {},
   "outputs": [
    {
     "data": {
      "text/html": [
       "<div>\n",
       "<style scoped>\n",
       "    .dataframe tbody tr th:only-of-type {\n",
       "        vertical-align: middle;\n",
       "    }\n",
       "\n",
       "    .dataframe tbody tr th {\n",
       "        vertical-align: top;\n",
       "    }\n",
       "\n",
       "    .dataframe thead th {\n",
       "        text-align: right;\n",
       "    }\n",
       "</style>\n",
       "<table border=\"1\" class=\"dataframe\">\n",
       "  <thead>\n",
       "    <tr style=\"text-align: right;\">\n",
       "      <th></th>\n",
       "      <th>Bigram</th>\n",
       "    </tr>\n",
       "  </thead>\n",
       "  <tbody>\n",
       "    <tr>\n",
       "      <th>0</th>\n",
       "      <td>(sounds, like)</td>\n",
       "    </tr>\n",
       "    <tr>\n",
       "      <th>1</th>\n",
       "      <td>(like, answer)</td>\n",
       "    </tr>\n",
       "    <tr>\n",
       "      <th>2</th>\n",
       "      <td>(answer, man)</td>\n",
       "    </tr>\n",
       "    <tr>\n",
       "      <th>3</th>\n",
       "      <td>(man, custody)</td>\n",
       "    </tr>\n",
       "    <tr>\n",
       "      <th>4</th>\n",
       "      <td>(custody, child)</td>\n",
       "    </tr>\n",
       "    <tr>\n",
       "      <th>...</th>\n",
       "      <td>...</td>\n",
       "    </tr>\n",
       "    <tr>\n",
       "      <th>848175</th>\n",
       "      <td>(bold, strategy)</td>\n",
       "    </tr>\n",
       "    <tr>\n",
       "      <th>848176</th>\n",
       "      <td>(strategy, cotton)</td>\n",
       "    </tr>\n",
       "    <tr>\n",
       "      <th>848177</th>\n",
       "      <td>(cotton, let)</td>\n",
       "    </tr>\n",
       "    <tr>\n",
       "      <th>848178</th>\n",
       "      <td>(let, see)</td>\n",
       "    </tr>\n",
       "    <tr>\n",
       "      <th>848179</th>\n",
       "      <td>(see, pays)</td>\n",
       "    </tr>\n",
       "  </tbody>\n",
       "</table>\n",
       "<p>848180 rows × 1 columns</p>\n",
       "</div>"
      ],
      "text/plain": [
       "                    Bigram\n",
       "0           (sounds, like)\n",
       "1           (like, answer)\n",
       "2            (answer, man)\n",
       "3           (man, custody)\n",
       "4         (custody, child)\n",
       "...                    ...\n",
       "848175    (bold, strategy)\n",
       "848176  (strategy, cotton)\n",
       "848177       (cotton, let)\n",
       "848178          (let, see)\n",
       "848179         (see, pays)\n",
       "\n",
       "[848180 rows x 1 columns]"
      ]
     },
     "execution_count": 111,
     "metadata": {},
     "output_type": "execute_result"
    }
   ],
   "source": [
    "df_textdataBi = pd.DataFrame(dataBi, columns = ['Bigram']) \n",
    "df_textdataBi"
   ]
  },
  {
   "cell_type": "code",
   "execution_count": 166,
   "metadata": {},
   "outputs": [
    {
     "data": {
      "text/html": [
       "<div>\n",
       "<style scoped>\n",
       "    .dataframe tbody tr th:only-of-type {\n",
       "        vertical-align: middle;\n",
       "    }\n",
       "\n",
       "    .dataframe tbody tr th {\n",
       "        vertical-align: top;\n",
       "    }\n",
       "\n",
       "    .dataframe thead th {\n",
       "        text-align: right;\n",
       "    }\n",
       "</style>\n",
       "<table border=\"1\" class=\"dataframe\">\n",
       "  <thead>\n",
       "    <tr style=\"text-align: right;\">\n",
       "      <th></th>\n",
       "      <th>Bigram</th>\n",
       "    </tr>\n",
       "  </thead>\n",
       "  <tbody>\n",
       "    <tr>\n",
       "      <th>0</th>\n",
       "      <td>(hunch, people)</td>\n",
       "    </tr>\n",
       "    <tr>\n",
       "      <th>1</th>\n",
       "      <td>(people, write)</td>\n",
       "    </tr>\n",
       "    <tr>\n",
       "      <th>2</th>\n",
       "      <td>(write, stuff)</td>\n",
       "    </tr>\n",
       "    <tr>\n",
       "      <th>3</th>\n",
       "      <td>(stuff, take)</td>\n",
       "    </tr>\n",
       "    <tr>\n",
       "      <th>4</th>\n",
       "      <td>(take, forever)</td>\n",
       "    </tr>\n",
       "    <tr>\n",
       "      <th>...</th>\n",
       "      <td>...</td>\n",
       "    </tr>\n",
       "    <tr>\n",
       "      <th>957392</th>\n",
       "      <td>(interests, representation)</td>\n",
       "    </tr>\n",
       "    <tr>\n",
       "      <th>957393</th>\n",
       "      <td>(representation, peoples)</td>\n",
       "    </tr>\n",
       "    <tr>\n",
       "      <th>957394</th>\n",
       "      <td>(peoples, interests)</td>\n",
       "    </tr>\n",
       "    <tr>\n",
       "      <th>957395</th>\n",
       "      <td>(interests, edited)</td>\n",
       "    </tr>\n",
       "    <tr>\n",
       "      <th>957396</th>\n",
       "      <td>(edited, clarity)</td>\n",
       "    </tr>\n",
       "  </tbody>\n",
       "</table>\n",
       "<p>957397 rows × 1 columns</p>\n",
       "</div>"
      ],
      "text/plain": [
       "                             Bigram\n",
       "0                   (hunch, people)\n",
       "1                   (people, write)\n",
       "2                    (write, stuff)\n",
       "3                     (stuff, take)\n",
       "4                   (take, forever)\n",
       "...                             ...\n",
       "957392  (interests, representation)\n",
       "957393    (representation, peoples)\n",
       "957394         (peoples, interests)\n",
       "957395          (interests, edited)\n",
       "957396            (edited, clarity)\n",
       "\n",
       "[957397 rows x 1 columns]"
      ]
     },
     "execution_count": 166,
     "metadata": {},
     "output_type": "execute_result"
    }
   ],
   "source": [
    "df_textdataBi_News = pd.DataFrame(dataBi_News, columns = ['Bigram']) \n",
    "df_textdataBi_News"
   ]
  },
  {
   "cell_type": "code",
   "execution_count": 112,
   "metadata": {},
   "outputs": [
    {
     "name": "stdout",
     "output_type": "stream",
     "text": [
      "                   Bigram  Count\n",
      "0              (ayy, ayy)    899\n",
      "1           (every, time)    626\n",
      "2            (years, ago)    433\n",
      "3            (feel, like)    422\n",
      "4           (looks, like)    415\n",
      "...                   ...    ...\n",
      "65731  (upvote, recently)      1\n",
      "65732     (instead, know)      1\n",
      "65733    (upvote, render)      1\n",
      "65734     (instead, kind)      1\n",
      "65735      (sucks, truly)      1\n",
      "\n",
      "[65736 rows x 2 columns]\n"
     ]
    }
   ],
   "source": [
    "Humor_Bigram=df_textdataBi.value_counts(\"Bigram\").reset_index(name='Count')\n",
    "print(Humor_Bigram)"
   ]
  },
  {
   "cell_type": "code",
   "execution_count": 167,
   "metadata": {},
   "outputs": [
    {
     "name": "stdout",
     "output_type": "stream",
     "text": [
      "                        Bigram  Count\n",
      "0            (bernie, sanders)    558\n",
      "1      (submission, statement)    491\n",
      "2             (supreme, court)    474\n",
      "3                (seems, like)    441\n",
      "4                  (ron, paul)    358\n",
      "...                        ...    ...\n",
      "82315  (limited, legitimately)      1\n",
      "82316         (limited, funny)      1\n",
      "82317           (limited, fun)      1\n",
      "82318       (limited, freedom)      1\n",
      "82319            (want, every)      1\n",
      "\n",
      "[82320 rows x 2 columns]\n"
     ]
    }
   ],
   "source": [
    "News_Bigram=df_textdataBi_News.value_counts(\"Bigram\").reset_index(name='Count')\n",
    "print(News_Bigram)"
   ]
  },
  {
   "cell_type": "code",
   "execution_count": 113,
   "metadata": {},
   "outputs": [
    {
     "data": {
      "text/html": [
       "<div>\n",
       "<style scoped>\n",
       "    .dataframe tbody tr th:only-of-type {\n",
       "        vertical-align: middle;\n",
       "    }\n",
       "\n",
       "    .dataframe tbody tr th {\n",
       "        vertical-align: top;\n",
       "    }\n",
       "\n",
       "    .dataframe thead th {\n",
       "        text-align: right;\n",
       "    }\n",
       "</style>\n",
       "<table border=\"1\" class=\"dataframe\">\n",
       "  <thead>\n",
       "    <tr style=\"text-align: right;\">\n",
       "      <th></th>\n",
       "      <th>Bigram</th>\n",
       "      <th>Count</th>\n",
       "    </tr>\n",
       "  </thead>\n",
       "  <tbody>\n",
       "    <tr>\n",
       "      <th>0</th>\n",
       "      <td>(ayy, ayy)</td>\n",
       "      <td>899</td>\n",
       "    </tr>\n",
       "    <tr>\n",
       "      <th>1</th>\n",
       "      <td>(every, time)</td>\n",
       "      <td>626</td>\n",
       "    </tr>\n",
       "    <tr>\n",
       "      <th>2</th>\n",
       "      <td>(years, ago)</td>\n",
       "      <td>433</td>\n",
       "    </tr>\n",
       "    <tr>\n",
       "      <th>3</th>\n",
       "      <td>(feel, like)</td>\n",
       "      <td>422</td>\n",
       "    </tr>\n",
       "    <tr>\n",
       "      <th>4</th>\n",
       "      <td>(looks, like)</td>\n",
       "      <td>415</td>\n",
       "    </tr>\n",
       "    <tr>\n",
       "      <th>5</th>\n",
       "      <td>(year, old)</td>\n",
       "      <td>410</td>\n",
       "    </tr>\n",
       "    <tr>\n",
       "      <th>6</th>\n",
       "      <td>(pretty, sure)</td>\n",
       "      <td>373</td>\n",
       "    </tr>\n",
       "    <tr>\n",
       "      <th>7</th>\n",
       "      <td>(one, time)</td>\n",
       "      <td>305</td>\n",
       "    </tr>\n",
       "    <tr>\n",
       "      <th>8</th>\n",
       "      <td>(valentine, day)</td>\n",
       "      <td>301</td>\n",
       "    </tr>\n",
       "    <tr>\n",
       "      <th>9</th>\n",
       "      <td>(last, year)</td>\n",
       "      <td>277</td>\n",
       "    </tr>\n",
       "  </tbody>\n",
       "</table>\n",
       "</div>"
      ],
      "text/plain": [
       "             Bigram  Count\n",
       "0        (ayy, ayy)    899\n",
       "1     (every, time)    626\n",
       "2      (years, ago)    433\n",
       "3      (feel, like)    422\n",
       "4     (looks, like)    415\n",
       "5       (year, old)    410\n",
       "6    (pretty, sure)    373\n",
       "7       (one, time)    305\n",
       "8  (valentine, day)    301\n",
       "9      (last, year)    277"
      ]
     },
     "execution_count": 113,
     "metadata": {},
     "output_type": "execute_result"
    }
   ],
   "source": [
    "Humor_Bigram_plot=Humor_Bigram.head(10)\n",
    "Humor_Bigram_plot"
   ]
  },
  {
   "cell_type": "code",
   "execution_count": 168,
   "metadata": {},
   "outputs": [
    {
     "data": {
      "text/html": [
       "<div>\n",
       "<style scoped>\n",
       "    .dataframe tbody tr th:only-of-type {\n",
       "        vertical-align: middle;\n",
       "    }\n",
       "\n",
       "    .dataframe tbody tr th {\n",
       "        vertical-align: top;\n",
       "    }\n",
       "\n",
       "    .dataframe thead th {\n",
       "        text-align: right;\n",
       "    }\n",
       "</style>\n",
       "<table border=\"1\" class=\"dataframe\">\n",
       "  <thead>\n",
       "    <tr style=\"text-align: right;\">\n",
       "      <th></th>\n",
       "      <th>Bigram</th>\n",
       "      <th>Count</th>\n",
       "    </tr>\n",
       "  </thead>\n",
       "  <tbody>\n",
       "    <tr>\n",
       "      <th>0</th>\n",
       "      <td>(bernie, sanders)</td>\n",
       "      <td>558</td>\n",
       "    </tr>\n",
       "    <tr>\n",
       "      <th>1</th>\n",
       "      <td>(submission, statement)</td>\n",
       "      <td>491</td>\n",
       "    </tr>\n",
       "    <tr>\n",
       "      <th>2</th>\n",
       "      <td>(supreme, court)</td>\n",
       "      <td>474</td>\n",
       "    </tr>\n",
       "    <tr>\n",
       "      <th>3</th>\n",
       "      <td>(seems, like)</td>\n",
       "      <td>441</td>\n",
       "    </tr>\n",
       "    <tr>\n",
       "      <th>4</th>\n",
       "      <td>(ron, paul)</td>\n",
       "      <td>358</td>\n",
       "    </tr>\n",
       "    <tr>\n",
       "      <th>5</th>\n",
       "      <td>(health, care)</td>\n",
       "      <td>345</td>\n",
       "    </tr>\n",
       "    <tr>\n",
       "      <th>6</th>\n",
       "      <td>(saudi, arabia)</td>\n",
       "      <td>337</td>\n",
       "    </tr>\n",
       "    <tr>\n",
       "      <th>7</th>\n",
       "      <td>(something, like)</td>\n",
       "      <td>332</td>\n",
       "    </tr>\n",
       "    <tr>\n",
       "      <th>8</th>\n",
       "      <td>(years, ago)</td>\n",
       "      <td>321</td>\n",
       "    </tr>\n",
       "    <tr>\n",
       "      <th>9</th>\n",
       "      <td>(hillary, clinton)</td>\n",
       "      <td>314</td>\n",
       "    </tr>\n",
       "    <tr>\n",
       "      <th>10</th>\n",
       "      <td>(bill, clinton)</td>\n",
       "      <td>313</td>\n",
       "    </tr>\n",
       "  </tbody>\n",
       "</table>\n",
       "</div>"
      ],
      "text/plain": [
       "                     Bigram  Count\n",
       "0         (bernie, sanders)    558\n",
       "1   (submission, statement)    491\n",
       "2          (supreme, court)    474\n",
       "3             (seems, like)    441\n",
       "4               (ron, paul)    358\n",
       "5            (health, care)    345\n",
       "6           (saudi, arabia)    337\n",
       "7         (something, like)    332\n",
       "8              (years, ago)    321\n",
       "9        (hillary, clinton)    314\n",
       "10          (bill, clinton)    313"
      ]
     },
     "execution_count": 168,
     "metadata": {},
     "output_type": "execute_result"
    }
   ],
   "source": [
    "News_Bigram_plot=News_Bigram.head(11)\n",
    "\n",
    "#News_Bigram_plot.columns\n",
    "#News_Bigram_plot.drop(News_Bigram_plot.index[4])\n",
    "News_Bigram_plot"
   ]
  },
  {
   "cell_type": "code",
   "execution_count": 134,
   "metadata": {},
   "outputs": [
    {
     "data": {
      "text/plain": [
       "Text(0, 0.5, 'Number Of Occurences')"
      ]
     },
     "execution_count": 134,
     "metadata": {},
     "output_type": "execute_result"
    },
    {
     "data": {
      "image/png": "[encoded data removed]",
      "text/plain": [
       "<Figure size 720x432 with 1 Axes>"
      ]
     },
     "metadata": {},
     "output_type": "display_data"
    }
   ],
   "source": [
    "fplotBi=Humor_Bigram_plot.plot(x=\"Bigram\", y=\"Count\", color='palevioletred', kind=\"bar\", xlabel=\"Bigram\",ylabel=\"Number of Occurrences\",figsize=(10,6),fontsize=14, title='Bigram plot for Humor Subreddit')\n",
    "fplotBi.yaxis.label.set_color('blue')\n",
    "fplotBi.xaxis.label.set_color('blue')\n",
    "\n",
    "fplotBi.set_xlabel(\"Bigrams\", size=16)\n",
    "fplotBi.set_ylabel(\"Number Of Occurences\",size=16)"
   ]
  },
  {
   "cell_type": "code",
   "execution_count": 169,
   "metadata": {},
   "outputs": [
    {
     "data": {
      "text/plain": [
       "Text(0, 0.5, 'Number Of Occurences')"
      ]
     },
     "execution_count": 169,
     "metadata": {},
     "output_type": "execute_result"
    },
    {
     "data": {
      "image/png": "[encoded data removed]",
      "text/plain": [
       "<Figure size 720x432 with 1 Axes>"
      ]
     },
     "metadata": {},
     "output_type": "display_data"
    }
   ],
   "source": [
    "fplotBi2=News_Bigram_plot.plot(x=\"Bigram\", y=\"Count\", color='palevioletred', kind=\"bar\", xlabel=\"Bigram\",ylabel=\"Number of Occurrences\",figsize=(10,6),fontsize=14, title='Bigram plot for News Subreddit')\n",
    "fplotBi2.yaxis.label.set_color('blue')\n",
    "fplotBi2.xaxis.label.set_color('blue')\n",
    "\n",
    "fplotBi2.set_xlabel(\"Bigrams\", size=16)\n",
    "fplotBi2.set_ylabel(\"Number Of Occurences\",size=16)"
   ]
  },
  {
   "cell_type": "code",
   "execution_count": 173,
   "metadata": {},
   "outputs": [],
   "source": [
    "from sklearn import metrics \n",
    "from sklearn.linear_model import LogisticRegression\n",
    "from sklearn.model_selection import train_test_split\n",
    "from sklearn.feature_extraction.text import CountVectorizer\n",
    "from sklearn.preprocessing import StandardScaler \n",
    "from sklearn.naive_bayes import GaussianNB\n",
    "import pickle"
   ]
  },
  {
   "cell_type": "code",
   "execution_count": 177,
   "metadata": {},
   "outputs": [],
   "source": [
    "DesktopPath = \"/Users/karishma/Desktop/pickle folder\"\n"
   ]
  },
  {
   "cell_type": "code",
   "execution_count": 116,
   "metadata": {},
   "outputs": [
    {
     "data": {
      "text/plain": [
       "text         object\n",
       "subreddit    object\n",
       "dtype: object"
      ]
     },
     "execution_count": 116,
     "metadata": {},
     "output_type": "execute_result"
    }
   ],
   "source": [
    "#wordtok count\n",
    "df=reddit_df\n",
    "df.dtypes"
   ]
  },
  {
   "cell_type": "code",
   "execution_count": 206,
   "metadata": {},
   "outputs": [],
   "source": [
    "BoW_comments = CountVectorizer(max_features=1000)\n",
    "x = BoW_comments.fit_transform(df['text']).toarray()\n",
    "voc=BoW_comments.vocabulary_"
   ]
  },
  {
   "cell_type": "code",
   "execution_count": null,
   "metadata": {},
   "outputs": [],
   "source": [
    "\n",
    "    \n",
    "    "
   ]
  },
  {
   "cell_type": "code",
   "execution_count": 118,
   "metadata": {},
   "outputs": [
    {
     "data": {
      "text/plain": [
       "array([[0, 0, 0, ..., 0, 0, 0],\n",
       "       [0, 0, 0, ..., 0, 0, 0],\n",
       "       [0, 0, 0, ..., 0, 0, 0],\n",
       "       ...,\n",
       "       [0, 0, 0, ..., 0, 0, 0],\n",
       "       [0, 0, 0, ..., 0, 0, 0],\n",
       "       [0, 0, 0, ..., 0, 0, 0]])"
      ]
     },
     "execution_count": 118,
     "metadata": {},
     "output_type": "execute_result"
    }
   ],
   "source": [
    "x"
   ]
  },
  {
   "cell_type": "code",
   "execution_count": 119,
   "metadata": {},
   "outputs": [],
   "source": [
    "#x[28]"
   ]
  },
  {
   "cell_type": "code",
   "execution_count": 120,
   "metadata": {},
   "outputs": [],
   "source": [
    "y = df['subreddit']\n",
    "x_train, x_test, y_train, y_test = train_test_split(x, y, test_size=0.3,random_state=42)"
   ]
  },
  {
   "cell_type": "code",
   "execution_count": 121,
   "metadata": {},
   "outputs": [
    {
     "data": {
      "text/plain": [
       "0        humor\n",
       "1        humor\n",
       "2        humor\n",
       "3        humor\n",
       "4        humor\n",
       "         ...  \n",
       "99995     news\n",
       "99996     news\n",
       "99997     news\n",
       "99998     news\n",
       "99999     news\n",
       "Name: subreddit, Length: 100000, dtype: object"
      ]
     },
     "execution_count": 121,
     "metadata": {},
     "output_type": "execute_result"
    }
   ],
   "source": [
    "y"
   ]
  },
  {
   "cell_type": "code",
   "execution_count": 122,
   "metadata": {},
   "outputs": [
    {
     "data": {
      "text/plain": [
       "GaussianNB()"
      ]
     },
     "execution_count": 122,
     "metadata": {},
     "output_type": "execute_result"
    }
   ],
   "source": [
    "NaiveBayesClassifier = GaussianNB()\n",
    "# sc_x = StandardScaler() \n",
    "# x_train = sc_x.fit_transform(x_train)  \n",
    "# x_test = sc_x.transform(x_test)\n",
    "NaiveBayesClassifier.fit(x_train, y_train)"
   ]
  },
  {
   "cell_type": "code",
   "execution_count": 201,
   "metadata": {},
   "outputs": [
    {
     "data": {
      "text/plain": [
       "array(['humor', 'humor', 'humor', ..., 'humor', 'news', 'humor'],\n",
       "      dtype='<U5')"
      ]
     },
     "execution_count": 201,
     "metadata": {},
     "output_type": "execute_result"
    }
   ],
   "source": [
    "y_pred = NaiveBayesClassifier.predict(x_test)\n",
    "y_pred\n"
   ]
  },
  {
   "cell_type": "code",
   "execution_count": 202,
   "metadata": {},
   "outputs": [
    {
     "data": {
      "text/plain": [
       "(30000, 1000)"
      ]
     },
     "execution_count": 202,
     "metadata": {},
     "output_type": "execute_result"
    }
   ],
   "source": [
    "x_test.shape"
   ]
  },
  {
   "cell_type": "code",
   "execution_count": 234,
   "metadata": {},
   "outputs": [
    {
     "data": {
      "text/plain": [
       "array([[0, 0, 0, ..., 0, 0, 0],\n",
       "       [0, 0, 0, ..., 0, 0, 0],\n",
       "       [0, 0, 0, ..., 0, 0, 0],\n",
       "       ...,\n",
       "       [0, 1, 0, ..., 0, 0, 0],\n",
       "       [0, 0, 0, ..., 0, 0, 0],\n",
       "       [0, 0, 0, ..., 0, 0, 0]])"
      ]
     },
     "execution_count": 234,
     "metadata": {},
     "output_type": "execute_result"
    }
   ],
   "source": [
    "df_trial=df.sample(n=30)\n",
    "trial_comments = CountVectorizer(vocabulary=voc)\n",
    "x_trial = trial_comments.fit_transform(df_trial['text']).toarray()\n",
    "x_trial"
   ]
  },
  {
   "cell_type": "code",
   "execution_count": 235,
   "metadata": {},
   "outputs": [
    {
     "data": {
      "text/plain": [
       "(30, 1000)"
      ]
     },
     "execution_count": 235,
     "metadata": {},
     "output_type": "execute_result"
    }
   ],
   "source": [
    "x_trial.shape"
   ]
  },
  {
   "cell_type": "code",
   "execution_count": 236,
   "metadata": {},
   "outputs": [
    {
     "data": {
      "text/plain": [
       "array(['humor', 'humor', 'humor', 'humor', 'humor', 'news', 'humor',\n",
       "       'news', 'humor', 'humor', 'humor', 'humor', 'humor', 'humor',\n",
       "       'humor', 'humor', 'humor', 'humor', 'humor', 'humor', 'news',\n",
       "       'humor', 'news', 'humor', 'humor', 'humor', 'humor', 'humor',\n",
       "       'humor', 'news'], dtype='<U5')"
      ]
     },
     "execution_count": 236,
     "metadata": {},
     "output_type": "execute_result"
    }
   ],
   "source": [
    "y_pred_trial=NaiveBayesClassifier.predict(x_trial)\n",
    "y_pred_trial"
   ]
  },
  {
   "cell_type": "code",
   "execution_count": 237,
   "metadata": {},
   "outputs": [
    {
     "data": {
      "text/html": [
       "<div>\n",
       "<style scoped>\n",
       "    .dataframe tbody tr th:only-of-type {\n",
       "        vertical-align: middle;\n",
       "    }\n",
       "\n",
       "    .dataframe tbody tr th {\n",
       "        vertical-align: top;\n",
       "    }\n",
       "\n",
       "    .dataframe thead th {\n",
       "        text-align: right;\n",
       "    }\n",
       "</style>\n",
       "<table border=\"1\" class=\"dataframe\">\n",
       "  <thead>\n",
       "    <tr style=\"text-align: right;\">\n",
       "      <th></th>\n",
       "      <th>text</th>\n",
       "      <th>subreddit</th>\n",
       "      <th>Predicted_Subreddit</th>\n",
       "    </tr>\n",
       "  </thead>\n",
       "  <tbody>\n",
       "    <tr>\n",
       "      <th>48617</th>\n",
       "      <td>i do nt think impersonating her husband would ...</td>\n",
       "      <td>humor</td>\n",
       "      <td>humor</td>\n",
       "    </tr>\n",
       "    <tr>\n",
       "      <th>40616</th>\n",
       "      <td>my husband was going to take me out to breakfa...</td>\n",
       "      <td>humor</td>\n",
       "      <td>humor</td>\n",
       "    </tr>\n",
       "    <tr>\n",
       "      <th>11188</th>\n",
       "      <td>he s probably just mad because he ca nt ever e...</td>\n",
       "      <td>humor</td>\n",
       "      <td>humor</td>\n",
       "    </tr>\n",
       "    <tr>\n",
       "      <th>86763</th>\n",
       "      <td>we should pass on this idea time for that part...</td>\n",
       "      <td>news</td>\n",
       "      <td>humor</td>\n",
       "    </tr>\n",
       "    <tr>\n",
       "      <th>40806</th>\n",
       "      <td>i just moved into my first home in the first w...</td>\n",
       "      <td>humor</td>\n",
       "      <td>humor</td>\n",
       "    </tr>\n",
       "    <tr>\n",
       "      <th>59413</th>\n",
       "      <td>is something going on with all the major curre...</td>\n",
       "      <td>news</td>\n",
       "      <td>news</td>\n",
       "    </tr>\n",
       "    <tr>\n",
       "      <th>57341</th>\n",
       "      <td>you could probably just sticky this post  have...</td>\n",
       "      <td>news</td>\n",
       "      <td>humor</td>\n",
       "    </tr>\n",
       "    <tr>\n",
       "      <th>70171</th>\n",
       "      <td>man  i do nt know how many of yall get stuck l...</td>\n",
       "      <td>news</td>\n",
       "      <td>news</td>\n",
       "    </tr>\n",
       "    <tr>\n",
       "      <th>26199</th>\n",
       "      <td>also if you lose your dog in a familiar area d...</td>\n",
       "      <td>humor</td>\n",
       "      <td>humor</td>\n",
       "    </tr>\n",
       "    <tr>\n",
       "      <th>25807</th>\n",
       "      <td>it s okay if an elephant does it  but as soon ...</td>\n",
       "      <td>humor</td>\n",
       "      <td>humor</td>\n",
       "    </tr>\n",
       "    <tr>\n",
       "      <th>32462</th>\n",
       "      <td>what is the difference between oscar pistorius...</td>\n",
       "      <td>humor</td>\n",
       "      <td>humor</td>\n",
       "    </tr>\n",
       "    <tr>\n",
       "      <th>27584</th>\n",
       "      <td>most people lack the awareness to even realize...</td>\n",
       "      <td>humor</td>\n",
       "      <td>humor</td>\n",
       "    </tr>\n",
       "    <tr>\n",
       "      <th>18664</th>\n",
       "      <td>it does nt matter in my case i have absolutely...</td>\n",
       "      <td>humor</td>\n",
       "      <td>humor</td>\n",
       "    </tr>\n",
       "    <tr>\n",
       "      <th>7047</th>\n",
       "      <td>my husband would have done the exact same thin...</td>\n",
       "      <td>humor</td>\n",
       "      <td>humor</td>\n",
       "    </tr>\n",
       "    <tr>\n",
       "      <th>77085</th>\n",
       "      <td>every time police find stuff like this  one pe...</td>\n",
       "      <td>news</td>\n",
       "      <td>humor</td>\n",
       "    </tr>\n",
       "    <tr>\n",
       "      <th>36282</th>\n",
       "      <td>princess bride   gt   you keep using that ph...</td>\n",
       "      <td>humor</td>\n",
       "      <td>humor</td>\n",
       "    </tr>\n",
       "    <tr>\n",
       "      <th>67776</th>\n",
       "      <td>a biographical background piece on the rivalry...</td>\n",
       "      <td>news</td>\n",
       "      <td>humor</td>\n",
       "    </tr>\n",
       "    <tr>\n",
       "      <th>9990</th>\n",
       "      <td>holy shit  i m a canadian named tyler who alwa...</td>\n",
       "      <td>humor</td>\n",
       "      <td>humor</td>\n",
       "    </tr>\n",
       "    <tr>\n",
       "      <th>19031</th>\n",
       "      <td>just saying  but mother teresa is the wrong na...</td>\n",
       "      <td>humor</td>\n",
       "      <td>humor</td>\n",
       "    </tr>\n",
       "    <tr>\n",
       "      <th>14797</th>\n",
       "      <td>if you re so damn prolife  then why are you o...</td>\n",
       "      <td>humor</td>\n",
       "      <td>humor</td>\n",
       "    </tr>\n",
       "    <tr>\n",
       "      <th>62935</th>\n",
       "      <td>im so confused if you listen to the russian tr...</td>\n",
       "      <td>news</td>\n",
       "      <td>news</td>\n",
       "    </tr>\n",
       "    <tr>\n",
       "      <th>89884</th>\n",
       "      <td>if the logic that business success equates to ...</td>\n",
       "      <td>news</td>\n",
       "      <td>humor</td>\n",
       "    </tr>\n",
       "    <tr>\n",
       "      <th>92985</th>\n",
       "      <td>that s what  affluenza  means literally the en...</td>\n",
       "      <td>news</td>\n",
       "      <td>news</td>\n",
       "    </tr>\n",
       "    <tr>\n",
       "      <th>22699</th>\n",
       "      <td>no they fucking wont   ok sir  thank you so mu...</td>\n",
       "      <td>humor</td>\n",
       "      <td>humor</td>\n",
       "    </tr>\n",
       "    <tr>\n",
       "      <th>25189</th>\n",
       "      <td>i hate when people do nt turn in the right lan...</td>\n",
       "      <td>humor</td>\n",
       "      <td>humor</td>\n",
       "    </tr>\n",
       "    <tr>\n",
       "      <th>48543</th>\n",
       "      <td>now op  to show your dad that you are a worthy...</td>\n",
       "      <td>humor</td>\n",
       "      <td>humor</td>\n",
       "    </tr>\n",
       "    <tr>\n",
       "      <th>26822</th>\n",
       "      <td>is nt this the chick who said  when presented ...</td>\n",
       "      <td>humor</td>\n",
       "      <td>humor</td>\n",
       "    </tr>\n",
       "    <tr>\n",
       "      <th>14581</th>\n",
       "      <td>i ve learned not to loan my games to anyone un...</td>\n",
       "      <td>humor</td>\n",
       "      <td>humor</td>\n",
       "    </tr>\n",
       "    <tr>\n",
       "      <th>25252</th>\n",
       "      <td>had this problem for years at my house i love ...</td>\n",
       "      <td>humor</td>\n",
       "      <td>humor</td>\n",
       "    </tr>\n",
       "    <tr>\n",
       "      <th>51610</th>\n",
       "      <td>so more than two months later and they are sti...</td>\n",
       "      <td>news</td>\n",
       "      <td>news</td>\n",
       "    </tr>\n",
       "  </tbody>\n",
       "</table>\n",
       "</div>"
      ],
      "text/plain": [
       "                                                    text subreddit  \\\n",
       "48617  i do nt think impersonating her husband would ...     humor   \n",
       "40616  my husband was going to take me out to breakfa...     humor   \n",
       "11188  he s probably just mad because he ca nt ever e...     humor   \n",
       "86763  we should pass on this idea time for that part...      news   \n",
       "40806  i just moved into my first home in the first w...     humor   \n",
       "59413  is something going on with all the major curre...      news   \n",
       "57341  you could probably just sticky this post  have...      news   \n",
       "70171  man  i do nt know how many of yall get stuck l...      news   \n",
       "26199  also if you lose your dog in a familiar area d...     humor   \n",
       "25807  it s okay if an elephant does it  but as soon ...     humor   \n",
       "32462  what is the difference between oscar pistorius...     humor   \n",
       "27584  most people lack the awareness to even realize...     humor   \n",
       "18664  it does nt matter in my case i have absolutely...     humor   \n",
       "7047   my husband would have done the exact same thin...     humor   \n",
       "77085  every time police find stuff like this  one pe...      news   \n",
       "36282    princess bride   gt   you keep using that ph...     humor   \n",
       "67776  a biographical background piece on the rivalry...      news   \n",
       "9990   holy shit  i m a canadian named tyler who alwa...     humor   \n",
       "19031  just saying  but mother teresa is the wrong na...     humor   \n",
       "14797   if you re so damn prolife  then why are you o...     humor   \n",
       "62935  im so confused if you listen to the russian tr...      news   \n",
       "89884  if the logic that business success equates to ...      news   \n",
       "92985  that s what  affluenza  means literally the en...      news   \n",
       "22699  no they fucking wont   ok sir  thank you so mu...     humor   \n",
       "25189  i hate when people do nt turn in the right lan...     humor   \n",
       "48543  now op  to show your dad that you are a worthy...     humor   \n",
       "26822  is nt this the chick who said  when presented ...     humor   \n",
       "14581  i ve learned not to loan my games to anyone un...     humor   \n",
       "25252  had this problem for years at my house i love ...     humor   \n",
       "51610  so more than two months later and they are sti...      news   \n",
       "\n",
       "      Predicted_Subreddit  \n",
       "48617               humor  \n",
       "40616               humor  \n",
       "11188               humor  \n",
       "86763               humor  \n",
       "40806               humor  \n",
       "59413                news  \n",
       "57341               humor  \n",
       "70171                news  \n",
       "26199               humor  \n",
       "25807               humor  \n",
       "32462               humor  \n",
       "27584               humor  \n",
       "18664               humor  \n",
       "7047                humor  \n",
       "77085               humor  \n",
       "36282               humor  \n",
       "67776               humor  \n",
       "9990                humor  \n",
       "19031               humor  \n",
       "14797               humor  \n",
       "62935                news  \n",
       "89884               humor  \n",
       "92985                news  \n",
       "22699               humor  \n",
       "25189               humor  \n",
       "48543               humor  \n",
       "26822               humor  \n",
       "14581               humor  \n",
       "25252               humor  \n",
       "51610                news  "
      ]
     },
     "execution_count": 237,
     "metadata": {},
     "output_type": "execute_result"
    }
   ],
   "source": [
    "df_trial['Predicted_Subreddit']=y_pred_trial\n",
    "df_trial"
   ]
  },
  {
   "cell_type": "code",
   "execution_count": 238,
   "metadata": {},
   "outputs": [
    {
     "data": {
      "text/plain": [
       "'we should pass on this idea time for that part of the world to solve their own issues without more american blood spilled '"
      ]
     },
     "execution_count": 238,
     "metadata": {},
     "output_type": "execute_result"
    }
   ],
   "source": [
    "df_trial.iloc[3]['text']"
   ]
  },
  {
   "cell_type": "code",
   "execution_count": 124,
   "metadata": {},
   "outputs": [
    {
     "data": {
      "text/plain": [
       "array([[13924,  1131],\n",
       "       [ 4949,  9996]])"
      ]
     },
     "execution_count": 124,
     "metadata": {},
     "output_type": "execute_result"
    }
   ],
   "source": [
    "from sklearn.metrics import confusion_matrix\n",
    "CM=confusion_matrix(y_test,y_pred)\n",
    "CM"
   ]
  },
  {
   "cell_type": "code",
   "execution_count": 125,
   "metadata": {},
   "outputs": [
    {
     "data": {
      "text/plain": [
       "0.7973333333333333"
      ]
     },
     "execution_count": 125,
     "metadata": {},
     "output_type": "execute_result"
    }
   ],
   "source": [
    "from sklearn.metrics import accuracy_score\n",
    "accuracy = accuracy_score(y_test, y_pred)\n",
    "accuracy"
   ]
  },
  {
   "cell_type": "code",
   "execution_count": 126,
   "metadata": {},
   "outputs": [
    {
     "data": {
      "text/plain": [
       "79.73333333333333"
      ]
     },
     "execution_count": 126,
     "metadata": {},
     "output_type": "execute_result"
    }
   ],
   "source": [
    "accuracy_percentage = 100 * accuracy\n",
    "accuracy_percentage"
   ]
  },
  {
   "cell_type": "code",
   "execution_count": 127,
   "metadata": {},
   "outputs": [
    {
     "name": "stdout",
     "output_type": "stream",
     "text": [
      "              precision    recall  f1-score   support\n",
      "\n",
      "       humor       0.74      0.92      0.82     15055\n",
      "        news       0.90      0.67      0.77     14945\n",
      "\n",
      "    accuracy                           0.80     30000\n",
      "   macro avg       0.82      0.80      0.79     30000\n",
      "weighted avg       0.82      0.80      0.79     30000\n",
      "\n"
     ]
    }
   ],
   "source": [
    "from sklearn.metrics import classification_report\n",
    "print(classification_report(y_test, y_pred))"
   ]
  },
  {
   "cell_type": "code",
   "execution_count": 128,
   "metadata": {},
   "outputs": [
    {
     "data": {
      "image/png": "[encoded data removed]",
      "text/plain": [
       "<Figure size 432x288 with 2 Axes>"
      ]
     },
     "metadata": {},
     "output_type": "display_data"
    }
   ],
   "source": [
    "import seaborn as sn\n",
    "import matplotlib.pyplot as plt\n",
    "confusion_plot = pd.DataFrame(CM, range(2), range(2))\n",
    "# plt.figure(figsize=(10,7))\n",
    "sn.set(font_scale=1.5)\n",
    "sn.heatmap(confusion_plot, cmap='BuPu',annot=True, annot_kws={\"size\": 16},fmt='g') \n",
    "\n",
    "plt.show()"
   ]
  },
  {
   "cell_type": "code",
   "execution_count": 129,
   "metadata": {},
   "outputs": [
    {
     "data": {
      "image/png": "[encoded data removed]",
      "text/plain": [
       "<Figure size 432x288 with 2 Axes>"
      ]
     },
     "metadata": {},
     "output_type": "display_data"
    }
   ],
   "source": [
    "import seaborn as sn\n",
    "import matplotlib.pyplot as plt\n",
    "confusion_plot = pd.DataFrame(CM, range(2), range(2))\n",
    "# plt.figure(figsize=(10,7))\n",
    "sn.set(font_scale=1.5)\n",
    "sn.heatmap(confusion_plot,annot=True, annot_kws={\"size\": 16},fmt='g') \n",
    "\n",
    "plt.show()"
   ]
  },
  {
   "cell_type": "code",
   "execution_count": 178,
   "metadata": {},
   "outputs": [],
   "source": [
    "def BoW_modelfn(data_model,vectorizer_model):\n",
    "    X = vectorizer_model.fit_transform(data_model['text']).toarray()\n",
    "    Y = data_model['subreddit']\n",
    "    X_train, X_test, Y_train, Y_test = train_test_split(X, Y, test_size=0.3,random_state=42)\n",
    "    NaiveBayesClassifier = GaussianNB()\n",
    "    NaiveBayesClassifier.fit(X_train, Y_train)\n",
    "    \n",
    "    return NaiveBayesClassifier,X"
   ]
  },
  {
   "cell_type": "code",
   "execution_count": 180,
   "metadata": {},
   "outputs": [],
   "source": [
    "BoW_model_location = DesktopPath + \"/BoW_model.pickle\"\n",
    "Vectorizer_path = DesktopPath + \"/vectorizer.pickle\"\n",
    "BoW_model, BoW_vectorizer = BoW_modelfn(df, BoW_comments)\n",
    "pickle.dump(BoW_model, open(BoW_model_location, 'wb'))\n",
    "pickle.dump(BoW_vectorizer, open(Vectorizer_path, \"wb\"))"
   ]
  },
  {
   "cell_type": "code",
   "execution_count": 130,
   "metadata": {},
   "outputs": [],
   "source": [
    "# vocab = []\n",
    "# #wordcountperpost=[]\n",
    "# for i in x_train:\n",
    "#     #print (len(i))\n",
    "#     word=str(i).split()\n",
    "#     #print(words)\n",
    "#     #break\n",
    "#     #wordcount=0;\n",
    "#     for j in words:\n",
    "#         #print(len(j))\n",
    "# #         if j[0].isalpha():\n",
    "# #             #print(j)\n",
    "# #             wordcount+=1\n",
    "#         vocab += nltk.tokenize.word_tokenize(j)\n",
    "#     #wordcountperpost.append(wordcount)"
   ]
  },
  {
   "cell_type": "code",
   "execution_count": 131,
   "metadata": {},
   "outputs": [],
   "source": [
    "# vocab = [i.lower() for i in vocab]\n",
    "# #print(tokens)\n",
    "# obj=str.maketrans('', '',string.punctuation)\n",
    "# vocab = [i.translate(obj) for i in vocab]\n",
    "# stop_words = set(nltk.corpus.stopwords.words(\"english\"))\n",
    "# vocab = [i for i in vocab if i not in stop_words]\n",
    "# vocab = [i for i in vocab if len(i)>2]\n",
    "# cVocab = Counter(vocab)\n",
    "# cVocab.most_common(10)"
   ]
  },
  {
   "cell_type": "code",
   "execution_count": 132,
   "metadata": {},
   "outputs": [],
   "source": [
    "# BoW_Vocab=[]\n",
    "# for i in range(0,1000):\n",
    "#     BoW_Vocab.append(list(cVocab.most_common(200)[i]))"
   ]
  }
 ],
 "metadata": {
  "kernelspec": {
   "display_name": "Python 3 (ipykernel)",
   "language": "python",
   "name": "python3"
  },
  "language_info": {
   "codemirror_mode": {
    "name": "ipython",
    "version": 3
   },
   "file_extension": ".py",
   "mimetype": "text/x-python",
   "name": "python",
   "nbconvert_exporter": "python",
   "pygments_lexer": "ipython3",
   "version": "3.9.7"
  }
 },
 "nbformat": 4,
 "nbformat_minor": 4
}
